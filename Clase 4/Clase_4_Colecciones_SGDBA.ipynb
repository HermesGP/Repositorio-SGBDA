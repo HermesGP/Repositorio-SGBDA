{
  "nbformat": 4,
  "nbformat_minor": 0,
  "metadata": {
    "colab": {
      "provenance": [],
      "authorship_tag": "ABX9TyNEsrw33UX5NcvYgOwf2NWU",
      "include_colab_link": true
    },
    "kernelspec": {
      "name": "python3",
      "display_name": "Python 3"
    },
    "language_info": {
      "name": "python"
    }
  },
  "cells": [
    {
      "cell_type": "markdown",
      "metadata": {
        "id": "view-in-github",
        "colab_type": "text"
      },
      "source": [
        "<a href=\"https://colab.research.google.com/github/HermesGP/Repositorio-SGBDA/blob/main/Clase%204/Clase_4_Colecciones_SGDBA.ipynb\" target=\"_parent\"><img src=\"https://colab.research.google.com/assets/colab-badge.svg\" alt=\"Open In Colab\"/></a>"
      ]
    },
    {
      "cell_type": "markdown",
      "source": [
        "Listas como pilas y instrucción del"
      ],
      "metadata": {
        "id": "sq3kSnq1i5CF"
      }
    },
    {
      "cell_type": "code",
      "execution_count": 3,
      "metadata": {
        "colab": {
          "base_uri": "https://localhost:8080/"
        },
        "id": "-iHBLM74fsaS",
        "outputId": "926781ab-0214-411d-91af-e50e6f74bf11"
      },
      "outputs": [
        {
          "output_type": "stream",
          "name": "stdout",
          "text": [
            "[4, 8, 9, 7, 9]\n",
            "[4, 8, 9, 7]\n",
            "[8, 9, 7]\n"
          ]
        }
      ],
      "source": [
        "pila_numeros = [4, 8 , 9, 7]\n",
        "pila_numeros.append(9)\n",
        "print(pila_numeros)\n",
        "pila_numeros.pop()\n",
        "print(pila_numeros)\n",
        "del pila_numeros[0]\n",
        "print(pila_numeros)"
      ]
    },
    {
      "cell_type": "markdown",
      "source": [
        "Colas con collections.queue"
      ],
      "metadata": {
        "id": "Ru4afuMLjMuc"
      }
    },
    {
      "cell_type": "code",
      "source": [
        "from collections import deque\n",
        "cola = deque([\"Pablo\", \"Martin\", \"Bonifacio\", \"Maria\"])\n",
        "cola.append(\"Viviana\")\n",
        "print(cola)\n",
        "persona_llamada = cola.popleft()\n",
        "print(f\"Es el turno de {persona_llamada}\")\n",
        "print(cola)"
      ],
      "metadata": {
        "colab": {
          "base_uri": "https://localhost:8080/"
        },
        "id": "B7tQDPJTi-IF",
        "outputId": "8e492234-4893-4693-9ee3-3a677fcabdde"
      },
      "execution_count": 5,
      "outputs": [
        {
          "output_type": "stream",
          "name": "stdout",
          "text": [
            "deque(['Pablo', 'Martin', 'Bonifacio', 'Maria', 'Viviana'])\n",
            "Es el turno de Pablo\n",
            "deque(['Martin', 'Bonifacio', 'Maria', 'Viviana'])\n"
          ]
        }
      ]
    },
    {
      "cell_type": "markdown",
      "source": [
        "Tuplas"
      ],
      "metadata": {
        "id": "wJW40dqYkXU-"
      }
    },
    {
      "cell_type": "code",
      "source": [
        "tupla_uno = \"Hola\",\"Que\",\"Tal\"\n",
        "print(tupla_uno)\n",
        "tupla_dos = (1, 5, 8 ,9)\n",
        "print(tupla_dos)\n",
        "tupla_tres = tupla_uno + tupla_dos\n",
        "print(tupla_tres)\n",
        "tupla_listas = ([5,6,8] , [9,7,5])\n",
        "print(tupla_listas)\n",
        "tupla_listas[0][2] = 10\n",
        "print(tupla_listas)"
      ],
      "metadata": {
        "colab": {
          "base_uri": "https://localhost:8080/"
        },
        "id": "4CHOklikkZC0",
        "outputId": "e1d2ca82-ecaf-4e44-dd7f-50a31fa17107"
      },
      "execution_count": 12,
      "outputs": [
        {
          "output_type": "stream",
          "name": "stdout",
          "text": [
            "('Hola', 'Que', 'Tal')\n",
            "(1, 5, 8, 9)\n",
            "('Hola', 'Que', 'Tal', 1, 5, 8, 9)\n",
            "([5, 6, 8], [9, 7, 5])\n",
            "([5, 6, 10], [9, 7, 5])\n"
          ]
        }
      ]
    },
    {
      "cell_type": "markdown",
      "source": [
        "Diccionarios"
      ],
      "metadata": {
        "id": "JrUQ9i6flfws"
      }
    },
    {
      "cell_type": "code",
      "source": [
        "datos_personales ={\"nombre\": \"Jan Perez\",\n",
        "                   \"cedula\": 6974578,\n",
        "                   \"telefono\": \"+595981725660\"\n",
        "                   }\n",
        "print(datos_personales)\n",
        "print(datos_personales[\"nombre\"])\n",
        "datos_personales[\"nombre\"] = \"Juan Perez\"\n",
        "print(datos_personales)\n"
      ],
      "metadata": {
        "colab": {
          "base_uri": "https://localhost:8080/"
        },
        "id": "ff164fi9ljeF",
        "outputId": "ddec5d9b-6c1f-4eb5-b02a-54d737179c80"
      },
      "execution_count": 10,
      "outputs": [
        {
          "output_type": "stream",
          "name": "stdout",
          "text": [
            "{'nombre': 'Jan Perez', 'cedula': 6974578, 'telefono': '+595981725660'}\n",
            "Jan Perez\n",
            "{'nombre': 'Juan Perez', 'cedula': 6974578, 'telefono': '+595981725660'}\n"
          ]
        }
      ]
    },
    {
      "cell_type": "markdown",
      "source": [
        "Lista de diccionarios y tecnicas de iteración"
      ],
      "metadata": {
        "id": "6CsBLUcDneqd"
      }
    },
    {
      "cell_type": "code",
      "source": [
        "contactos = [\n",
        "    {\"nombre\": \"Juan\", \"telefono\": \"123456789\", \"edad\": 36},\n",
        "    {\"nombre\": \"María\", \"telefono\": \"987654321\", \"edad\": 28},\n",
        "    {\"nombre\": \"Pedro\", \"telefono\": \"555555555\", \"edad\": 42}\n",
        "]\n",
        "print(\"Lista de contactos\")\n",
        "print(\"----------------------------\")\n",
        "for contacto in contactos:\n",
        "  print(f\"Nombre: {contacto['nombre']}\")\n",
        "  print(f\"Teléfono: {contacto['telefono']}\")\n",
        "  print(f\"Edad: {contacto['edad']}\")\n",
        "  print(\"----------------------------\")\n",
        "for contacto in contactos:\n",
        "    for clave, valor in contacto.items():\n",
        "        print(f\"{clave}: {valor}\")\n",
        "    print(\"----------------------------\")\n",
        "    for clave in contacto.keys():\n",
        "        print(f\"{clave}: {contacto[clave]}\")\n",
        "    print(\"----------------------------\")\n",
        "    for valor in contacto.values():\n",
        "        print(valor)\n",
        "    print(\"----------------------------\")\n"
      ],
      "metadata": {
        "colab": {
          "base_uri": "https://localhost:8080/"
        },
        "id": "ooWQeM74nzH1",
        "outputId": "e0a07626-06d8-4b42-d5ca-07bb23f04cab"
      },
      "execution_count": 18,
      "outputs": [
        {
          "output_type": "stream",
          "name": "stdout",
          "text": [
            "Lista de contactos\n",
            "----------------------------\n",
            "Nombre: Juan\n",
            "Teléfono: 123456789\n",
            "Edad: 36\n",
            "----------------------------\n",
            "Nombre: María\n",
            "Teléfono: 987654321\n",
            "Edad: 28\n",
            "----------------------------\n",
            "Nombre: Pedro\n",
            "Teléfono: 555555555\n",
            "Edad: 42\n",
            "----------------------------\n",
            "nombre: Juan\n",
            "telefono: 123456789\n",
            "edad: 36\n",
            "----------------------------\n",
            "nombre: Juan\n",
            "telefono: 123456789\n",
            "edad: 36\n",
            "----------------------------\n",
            "Juan\n",
            "123456789\n",
            "36\n",
            "----------------------------\n",
            "nombre: María\n",
            "telefono: 987654321\n",
            "edad: 28\n",
            "----------------------------\n",
            "nombre: María\n",
            "telefono: 987654321\n",
            "edad: 28\n",
            "----------------------------\n",
            "María\n",
            "987654321\n",
            "28\n",
            "----------------------------\n",
            "nombre: Pedro\n",
            "telefono: 555555555\n",
            "edad: 42\n",
            "----------------------------\n",
            "nombre: Pedro\n",
            "telefono: 555555555\n",
            "edad: 42\n",
            "----------------------------\n",
            "Pedro\n",
            "555555555\n",
            "42\n",
            "----------------------------\n"
          ]
        }
      ]
    },
    {
      "cell_type": "markdown",
      "source": [
        "Otras tecnicas de iteracion sobre listas"
      ],
      "metadata": {
        "id": "g4MmL9xZpr19"
      }
    },
    {
      "cell_type": "code",
      "source": [
        "lista = [\"abra\",\"kadabra\",\"alakazam\"]\n",
        "for indice, valor in enumerate(lista):\n",
        "    print(f\"{indice}: {valor}\")\n",
        "for i in reversed(lista):\n",
        "    print(i)\n",
        "for i in sorted(lista):\n",
        "    print(i)"
      ],
      "metadata": {
        "colab": {
          "base_uri": "https://localhost:8080/"
        },
        "id": "_5s1vWrupyjc",
        "outputId": "a475b00f-514c-43fe-e0fd-7675424c8dd9"
      },
      "execution_count": 20,
      "outputs": [
        {
          "output_type": "stream",
          "name": "stdout",
          "text": [
            "0: abra\n",
            "1: kadabra\n",
            "2: alakazam\n",
            "alakazam\n",
            "kadabra\n",
            "abra\n",
            "abra\n",
            "alakazam\n",
            "kadabra\n"
          ]
        }
      ]
    },
    {
      "cell_type": "markdown",
      "source": [
        "Conjuntos"
      ],
      "metadata": {
        "id": "av3KAmKjqpMV"
      }
    },
    {
      "cell_type": "code",
      "source": [
        "frutas = {\"manzana\", \"banana\", \"pera\", \"naranja\"}\n",
        "print(frutas)\n",
        "print(\"manzana\" in frutas)\n",
        "print(\"uva\" in frutas)\n",
        "frutas.add(\"uva\")\n",
        "print(frutas)\n",
        "frutas.add(\"pera\")\n",
        "print(frutas)"
      ],
      "metadata": {
        "colab": {
          "base_uri": "https://localhost:8080/"
        },
        "id": "s0ENTNalqrj1",
        "outputId": "1a4210dd-8954-43e7-c1b5-26f893b1ec49"
      },
      "execution_count": 22,
      "outputs": [
        {
          "output_type": "stream",
          "name": "stdout",
          "text": [
            "{'manzana', 'naranja', 'banana', 'pera'}\n",
            "True\n",
            "False\n",
            "{'banana', 'uva', 'naranja', 'pera', 'manzana'}\n",
            "{'banana', 'uva', 'naranja', 'pera', 'manzana'}\n"
          ]
        }
      ]
    },
    {
      "cell_type": "markdown",
      "source": [
        "Operaciones sobre conjuntos"
      ],
      "metadata": {
        "id": "Z7Y7tTBRrUEF"
      }
    },
    {
      "cell_type": "code",
      "source": [
        "set_uno = {1, 2, 3, 4, 5}\n",
        "set_dos = {4, 5, 6, 7, 8}\n",
        "#union\n",
        "print(set_uno | set_dos)\n",
        "#inserseccion\n",
        "print(set_uno & set_dos)\n",
        "#diferencia\n",
        "print(set_uno - set_dos)\n",
        "#diferencia simetrica\n",
        "print(set_uno ^ set_dos)"
      ],
      "metadata": {
        "colab": {
          "base_uri": "https://localhost:8080/"
        },
        "id": "7AKKfDuhrXX9",
        "outputId": "50a931a9-3bb4-4aaa-fb21-5da83bb87c18"
      },
      "execution_count": 24,
      "outputs": [
        {
          "output_type": "stream",
          "name": "stdout",
          "text": [
            "{1, 2, 3, 4, 5, 6, 7, 8}\n",
            "{4, 5}\n",
            "{1, 2, 3}\n",
            "{1, 2, 3, 6, 7, 8}\n"
          ]
        }
      ]
    }
  ]
}