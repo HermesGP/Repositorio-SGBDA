{
  "nbformat": 4,
  "nbformat_minor": 0,
  "metadata": {
    "colab": {
      "provenance": [],
      "authorship_tag": "ABX9TyO6Yjrj+FpIKowNZvu0naI6",
      "include_colab_link": true
    },
    "kernelspec": {
      "name": "python3",
      "display_name": "Python 3"
    },
    "language_info": {
      "name": "python"
    }
  },
  "cells": [
    {
      "cell_type": "markdown",
      "metadata": {
        "id": "view-in-github",
        "colab_type": "text"
      },
      "source": [
        "<a href=\"https://colab.research.google.com/github/HermesGP/Repositorio-SGBDA/blob/main/Clase%204/Clase_4_Archivos.ipynb\" target=\"_parent\"><img src=\"https://colab.research.google.com/assets/colab-badge.svg\" alt=\"Open In Colab\"/></a>"
      ]
    },
    {
      "cell_type": "markdown",
      "source": [
        "Montar carpeta de Drive"
      ],
      "metadata": {
        "id": "aDIZxBj_yC5e"
      }
    },
    {
      "cell_type": "code",
      "execution_count": 1,
      "metadata": {
        "colab": {
          "base_uri": "https://localhost:8080/"
        },
        "id": "MdSrIlr1ue_U",
        "outputId": "3325c705-e5a4-4388-8548-23e3323eb126"
      },
      "outputs": [
        {
          "output_type": "stream",
          "name": "stdout",
          "text": [
            "Mounted at /content/drive\n"
          ]
        }
      ],
      "source": [
        "from google.colab import drive\n",
        "drive.mount('/content/drive')"
      ]
    },
    {
      "cell_type": "markdown",
      "source": [
        "Leer archivos desde Drive"
      ],
      "metadata": {
        "id": "wJ00Am5hyCmt"
      }
    },
    {
      "cell_type": "code",
      "source": [
        "ruta = '/content/drive/MyDrive/nombres.txt'\n",
        "with open(ruta, 'r') as archivo:\n",
        "  for linea in archivo:\n",
        "    print(linea)"
      ],
      "metadata": {
        "colab": {
          "base_uri": "https://localhost:8080/"
        },
        "id": "TlGM7VBqyJcF",
        "outputId": "b959652e-7501-40b1-a543-0f57fdb28f3f"
      },
      "execution_count": 2,
      "outputs": [
        {
          "output_type": "stream",
          "name": "stdout",
          "text": [
            "Valeria\n",
            "\n",
            "Mateo\n",
            "\n",
            "Camila\n",
            "\n",
            "Sebastián\n",
            "\n",
            "Lucía\n",
            "\n",
            "Diego\n",
            "\n",
            "Sofía\n",
            "\n",
            "Nicolás\n",
            "\n",
            "Martina\n",
            "\n",
            "Alejandro\n",
            "\n",
            "Isabella\n",
            "\n",
            "Daniel\n",
            "\n",
            "Gabriela\n",
            "\n",
            "Juan\n",
            "\n",
            "Paula\n",
            "\n",
            "Andrés\n",
            "\n",
            "María\n",
            "\n",
            "Carlos\n",
            "\n",
            "Ana\n",
            "\n",
            "Javier\n",
            "\n",
            "Laura\n",
            "\n",
            "Felipe\n",
            "\n",
            "Sara\n",
            "\n",
            "Ricardo\n",
            "\n",
            "Elena\n",
            "\n",
            "Tomás\n",
            "\n",
            "Claudia\n",
            "\n",
            "Luis\n",
            "\n",
            "Mariana\n",
            "\n",
            "Pedro\n"
          ]
        }
      ]
    },
    {
      "cell_type": "markdown",
      "source": [
        "Guardar archivos en Drive"
      ],
      "metadata": {
        "id": "NUIMxl5RygBV"
      }
    },
    {
      "cell_type": "code",
      "source": [
        "ruta = '/content/drive/MyDrive/saludo.txt'\n",
        "with open(ruta, 'w') as archivo:\n",
        "  archivo.write('Hola a todos')"
      ],
      "metadata": {
        "id": "OTDkMCfvyfQl"
      },
      "execution_count": 3,
      "outputs": []
    },
    {
      "cell_type": "markdown",
      "source": [
        "Programa que carga las lineas introducidas por el usuario y las carga en un archivo de texto"
      ],
      "metadata": {
        "id": "Zgvs4VBiy8Cl"
      }
    },
    {
      "cell_type": "code",
      "source": [
        "def cargar_palabras(ruta_archivo):\n",
        "  \"\"\"Lee las palabras que introduce el usuario y las guarda en un archivo\"\"\"\n",
        "  palabras = []\n",
        "  while True:\n",
        "    palabra = input('Ingrese una palabra (o \"fin\" para terminar)')\n",
        "    if palabra.lower() == 'fin':\n",
        "      break\n",
        "    palabras.append(palabra)\n",
        "  try:\n",
        "    with open(ruta_archivo, 'a', encoding='utf-8') as archivo:\n",
        "      for palabra in palabras:\n",
        "        archivo.write(palabra + '\\n')\n",
        "  except Exception as e:\n",
        "    print(f'Error al escribir en el archivo: {e}')\n",
        "  else:\n",
        "    print('Palabras guardadas con exito')\n",
        "  finally:\n",
        "    print('Programa finalizado')\n",
        "cargar_palabras('/content/drive/MyDrive/palabras.txt')"
      ],
      "metadata": {
        "colab": {
          "base_uri": "https://localhost:8080/"
        },
        "id": "76UD7d62zEVd",
        "outputId": "bbc182ed-8b95-40a6-e6d3-45a73a41cd01"
      },
      "execution_count": 5,
      "outputs": [
        {
          "output_type": "stream",
          "name": "stdout",
          "text": [
            "Ingrese una palabra (o \"fin\" para terminar)Pikachu\n",
            "Ingrese una palabra (o \"fin\" para terminar)Raichu\n",
            "Ingrese una palabra (o \"fin\" para terminar)Manejar\n",
            "Ingrese una palabra (o \"fin\" para terminar)Autos\n",
            "Ingrese una palabra (o \"fin\" para terminar)Barbaros\n",
            "Ingrese una palabra (o \"fin\" para terminar)Volkswagen\n",
            "Ingrese una palabra (o \"fin\" para terminar)fin\n",
            "Palabras guardadas con exito\n",
            "Programa finalizado\n"
          ]
        }
      ]
    },
    {
      "cell_type": "markdown",
      "source": [
        "Funcion que lee las lineas de un archivo y las devuelve como lista"
      ],
      "metadata": {
        "id": "H_3dykU70sAO"
      }
    },
    {
      "cell_type": "code",
      "source": [
        "def leer_lineas(ruta_archivo):\n",
        "  \"\"\"Lee las lineas de un archivo y las devuelve como lista\"\"\"\n",
        "  try:\n",
        "    with open(ruta_archivo, 'r', encoding='utf-8') as archivo:\n",
        "      lineas = archivo.readlines()\n",
        "    return lineas\n",
        "  except FileNotFoundError:\n",
        "    print(f'El archivo {ruta_archivo} no fue encontrado')\n",
        "  except Exception as e:\n",
        "    print(f'Error al leer el archivo: {e}')\n",
        "lineas = leer_lineas('/content/drive/MyDrive/palabras.txt')\n",
        "print(\"Lineas leidas del archivo: \")\n",
        "for linea in lineas:\n",
        "  print(linea)"
      ],
      "metadata": {
        "colab": {
          "base_uri": "https://localhost:8080/"
        },
        "id": "jvDv4CMz0waU",
        "outputId": "5e9b120c-f7a5-4b50-f2bc-6fdac33d924f"
      },
      "execution_count": 6,
      "outputs": [
        {
          "output_type": "stream",
          "name": "stdout",
          "text": [
            "Lineas leidas del archivo: \n",
            "Pikachu\n",
            "\n",
            "Raichu\n",
            "\n",
            "Manejar\n",
            "\n",
            "Autos\n",
            "\n",
            "Barbaros\n",
            "\n",
            "Volkswagen\n",
            "\n"
          ]
        }
      ]
    },
    {
      "cell_type": "markdown",
      "source": [
        "Lee un archivo de texto, ordena las lineas alfabeticamente y las guarda en otro archivo de texto"
      ],
      "metadata": {
        "id": "PjruklVj1gk2"
      }
    },
    {
      "cell_type": "code",
      "source": [
        "ruta_original = '/content/drive/MyDrive/palabras.txt'\n",
        "ruta_ordenada = '/content/drive/MyDrive/palabras_ordenadas.txt'\n",
        "try:\n",
        "  with open(ruta_original, 'r', encoding='utf-8') as archivo_original:\n",
        "    lineas = archivo_original.readlines()\n",
        "except FileNotFoundError:\n",
        "  print(f'El archivo {ruta_original} no fue encontrado')\n",
        "except Exception as e:\n",
        "  print(f'Error al leer el archivo: {e}')\n",
        "else:\n",
        "  lineas_ordenadas = sorted(lineas)\n",
        "  for palabra in lineas_ordenadas:\n",
        "    palabra = palabra.strip()\n",
        "try:\n",
        "  with open(ruta_ordenada, 'w', encoding='utf-8') as archivo_ordenado:\n",
        "    archivo_ordenado.writelines(lineas_ordenadas)\n",
        "except Exception as e:\n",
        "  print(f'Error al escribir en el archivo: {e}')\n",
        "else:\n",
        "  print('Archivo ordenado guardado con exito')\n",
        "finally:\n",
        "  print('Programa finalizado')"
      ],
      "metadata": {
        "colab": {
          "base_uri": "https://localhost:8080/"
        },
        "id": "6Q4AuGN91qC9",
        "outputId": "e63c05fc-7c60-4fe1-ba71-3b7b6d2afc2c"
      },
      "execution_count": 7,
      "outputs": [
        {
          "output_type": "stream",
          "name": "stdout",
          "text": [
            "Archivo ordenado guardado con exito\n",
            "Programa finalizado\n"
          ]
        }
      ]
    },
    {
      "cell_type": "markdown",
      "source": [
        "Crear un archivo de texto con la tabla de multiplicar de cierto numero entero"
      ],
      "metadata": {
        "id": "G6zSyNQt2eI-"
      }
    },
    {
      "cell_type": "code",
      "source": [
        "while True:\n",
        "  try:\n",
        "    numero = int(input('Ingrese un numero entero: '))\n",
        "    break\n",
        "  except ValueError:\n",
        "    print('Error: Ingrese un numero entero valido')\n",
        "    continue\n",
        "  except Exception as e:\n",
        "    print(f'Error: {e}')\n",
        "ruta_archivo = f\"/content/drive/MyDrive/tabla_de_{numero}.txt\"\n",
        "try:\n",
        "  with open(ruta_archivo, 'w', encoding='utf-8') as archivo:\n",
        "    archivo.write(f\"Tabla de multiplicar del número {numero}:\\n\")\n",
        "    for i in range(1,11):\n",
        "      archivo.write(f\"{numero} x {i} = {numero*i}\\n\")\n",
        "except Exception as e:\n",
        "  print(f'Error al escribir en el archivo: {e}')\n",
        "else:\n",
        "  print(f'Tabla de multiplicar del número {numero} guardada en {ruta_archivo}')\n",
        "finally:\n",
        "  print('Programa finalizado')"
      ],
      "metadata": {
        "colab": {
          "base_uri": "https://localhost:8080/"
        },
        "id": "ZL8mOyle2l_2",
        "outputId": "63420dae-47d6-4b29-d6b9-fa668e1013c0"
      },
      "execution_count": 9,
      "outputs": [
        {
          "output_type": "stream",
          "name": "stdout",
          "text": [
            "Ingrese un numero entero: 8\n",
            "Tabla de multiplicar del número 8 guardada en /content/drive/MyDrive/tabla_de_8.txt\n",
            "Programa finalizado\n"
          ]
        }
      ]
    },
    {
      "cell_type": "markdown",
      "source": [
        "Guardar diccionario de Python en archivo json"
      ],
      "metadata": {
        "id": "BSO3IOIj4ked"
      }
    },
    {
      "cell_type": "code",
      "source": [
        "import json\n",
        "\n",
        "contactos = [\n",
        "    {\"nombre\": \"Juan\", \"telefono\": \"123456789\", \"edad\": 36},\n",
        "    {\"nombre\": \"María\", \"telefono\": \"987654321\", \"edad\": 28},\n",
        "    {\"nombre\": \"Pedro\", \"telefono\": \"555555555\", \"edad\": 42},\n",
        "    {\"nombre\": \"Ana\", \"telefono\": \"111111111\", \"edad\": 25}\n",
        "]\n",
        "\n",
        "def guardar_diccionario_json(diccionario, ruta_archivo):\n",
        "  \"\"\"Guarda un diccionario en un archivo json\"\"\"\n",
        "  try:\n",
        "    with open(ruta_archivo, 'w', encoding='utf-8') as archivo:\n",
        "      json.dump(diccionario, archivo, indent=4)\n",
        "  except Exception as e:\n",
        "    print(f'Error al guardar el diccionario en el archivo: {e}')\n",
        "  else:\n",
        "    print(f'Diccionario guardado en {ruta_archivo}')\n",
        "\n",
        "guardar_diccionario_json(contactos, '/content/drive/MyDrive/contactos.json')"
      ],
      "metadata": {
        "colab": {
          "base_uri": "https://localhost:8080/"
        },
        "id": "p-VN5LDJ4sb0",
        "outputId": "9c80253e-99f4-4225-80dd-0e730701f2ec"
      },
      "execution_count": 10,
      "outputs": [
        {
          "output_type": "stream",
          "name": "stdout",
          "text": [
            "Diccionario guardado en /content/drive/MyDrive/contactos.json\n"
          ]
        }
      ]
    },
    {
      "cell_type": "markdown",
      "source": [
        "Cargar desde un archivo json a un objeto de Python"
      ],
      "metadata": {
        "id": "Lm6uKM9U5u8-"
      }
    },
    {
      "cell_type": "code",
      "source": [
        "def json_a_objeto(ruta_archivo):\n",
        "  \"\"\"Carga un archivo json a un objeto de Python\"\"\"\n",
        "  try:\n",
        "    with open(ruta_archivo, 'r', encoding='utf-8') as archivo:\n",
        "      objeto = json.load(archivo)\n",
        "  except FileNotFoundError:\n",
        "    print(f'El archivo {ruta_archivo} no fue encontrado')\n",
        "  else:\n",
        "    return objeto\n",
        "contactos = json_a_objeto('/content/drive/MyDrive/empleados.json')\n",
        "print(contactos)\n",
        "print(contactos['empleados'][0]['nombre'])"
      ],
      "metadata": {
        "colab": {
          "base_uri": "https://localhost:8080/"
        },
        "id": "sHfkDsOt5yqV",
        "outputId": "f80b15e2-2690-49bd-a7cb-1531af625a2b"
      },
      "execution_count": 13,
      "outputs": [
        {
          "output_type": "stream",
          "name": "stdout",
          "text": [
            "{'empleados': [{'id': 1, 'nombre': 'Ana', 'apellido': 'García', 'edad': 28, 'puesto': 'Analista'}, {'id': 2, 'nombre': 'Luis', 'apellido': 'Martínez', 'edad': 35, 'puesto': 'Desarrollador'}, {'id': 3, 'nombre': 'María', 'apellido': 'López', 'edad': 30, 'puesto': 'Diseñadora'}, {'id': 4, 'nombre': 'Javier', 'apellido': 'Pérez', 'edad': 40, 'puesto': 'Gerente'}, {'id': 5, 'nombre': 'Sofía', 'apellido': 'Gómez', 'edad': 25, 'puesto': 'Marketing'}, {'id': 6, 'nombre': 'Carlos', 'apellido': 'Rodríguez', 'edad': 32, 'puesto': 'Soporte Técnico'}, {'id': 7, 'nombre': 'Laura', 'apellido': 'Fernández', 'edad': 29, 'puesto': 'Recursos Humanos'}, {'id': 8, 'nombre': 'Diego', 'apellido': 'Sánchez', 'edad': 31, 'puesto': 'Contador'}, {'id': 9, 'nombre': 'Paula', 'apellido': 'Ramírez', 'edad': 27, 'puesto': 'Administrativa'}, {'id': 10, 'nombre': 'Miguel', 'apellido': 'Torres', 'edad': 38, 'puesto': 'Ventas'}, {'id': 11, 'nombre': 'Isabel', 'apellido': 'Vargas', 'edad': 26, 'puesto': 'Desarrolladora'}, {'id': 12, 'nombre': 'Andrés', 'apellido': 'Castillo', 'edad': 34, 'puesto': 'Analista'}, {'id': 13, 'nombre': 'Claudia', 'apellido': 'Ortiz', 'edad': 33, 'puesto': 'Diseñadora'}, {'id': 14, 'nombre': 'Ricardo', 'apellido': 'Mendoza', 'edad': 37, 'puesto': 'Gerente'}, {'id': 15, 'nombre': 'Natalia', 'apellido': 'Ruiz', 'edad': 24, 'puesto': 'Marketing'}, {'id': 16, 'nombre': 'Fernando', 'apellido': 'Flores', 'edad': 36, 'puesto': 'Soporte Técnico'}, {'id': 17, 'nombre': 'Carmen', 'apellido': 'Morales', 'edad': 29, 'puesto': 'Recursos Humanos'}, {'id': 18, 'nombre': 'Jorge', 'apellido': 'Medina', 'edad': 35, 'puesto': 'Contador'}, {'id': 19, 'nombre': 'Elena', 'apellido': 'Jiménez', 'edad': 28, 'puesto': 'Administrativa'}, {'id': 20, 'nombre': 'Pedro', 'apellido': 'Núñez', 'edad': 39, 'puesto': 'Ventas'}]}\n",
            "Ana\n"
          ]
        }
      ]
    }
  ]
}