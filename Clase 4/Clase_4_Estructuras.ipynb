{
  "nbformat": 4,
  "nbformat_minor": 0,
  "metadata": {
    "colab": {
      "provenance": [],
      "authorship_tag": "ABX9TyOTVz55VFpM97bgpd9nBItV",
      "include_colab_link": true
    },
    "kernelspec": {
      "name": "python3",
      "display_name": "Python 3"
    },
    "language_info": {
      "name": "python"
    }
  },
  "cells": [
    {
      "cell_type": "markdown",
      "metadata": {
        "id": "view-in-github",
        "colab_type": "text"
      },
      "source": [
        "<a href=\"https://colab.research.google.com/github/HermesGP/Repositorio-SGBDA/blob/main/Clase%204/Clase_4_Estructuras.ipynb\" target=\"_parent\"><img src=\"https://colab.research.google.com/assets/colab-badge.svg\" alt=\"Open In Colab\"/></a>"
      ]
    },
    {
      "cell_type": "markdown",
      "source": [
        "Usar colas para manejar los tickets de un consultorio\n"
      ],
      "metadata": {
        "id": "eOlxTmI56elG"
      }
    },
    {
      "cell_type": "code",
      "execution_count": 2,
      "metadata": {
        "colab": {
          "base_uri": "https://localhost:8080/"
        },
        "id": "zyqYGksMwC_7",
        "outputId": "4c4775ea-4df9-4510-9a1e-36e40d9159c3"
      },
      "outputs": [
        {
          "output_type": "stream",
          "name": "stdout",
          "text": [
            "Ticket 1 generado para Juan\n",
            "Ticket 2 generado para Maria\n",
            "Ticket 3 generado para Pedro\n",
            "Atendiendo a Juan con ticket 1\n",
            "Atendiendo a Maria con ticket 2\n",
            "Atendiendo a Pedro con ticket 3\n",
            "No hay pacientes en la cola.\n"
          ]
        }
      ],
      "source": [
        "from collections import deque\n",
        "cola_consultorio = deque()\n",
        "ticket_actual = 1\n",
        "\n",
        "def generar_ticket(nombre):\n",
        "  global ticket_actual\n",
        "  paciente = {\"ticket\": ticket_actual, \"nombre\": nombre}\n",
        "  cola_consultorio.append(paciente)\n",
        "  print(f\"Ticket {ticket_actual} generado para {nombre}\")\n",
        "  ticket_actual += 1\n",
        "  return paciente\n",
        "\n",
        "def atender_paciente():\n",
        "  if len(cola_consultorio) > 0:\n",
        "    paciente = cola_consultorio.popleft()\n",
        "    print(f\"Atendiendo a {paciente['nombre']} con ticket {paciente['ticket']}\")\n",
        "  else:\n",
        "    print(\"No hay pacientes en la cola.\")\n",
        "\n",
        "generar_ticket(\"Juan\")\n",
        "generar_ticket(\"Maria\")\n",
        "generar_ticket(\"Pedro\")\n",
        "\n",
        "atender_paciente()\n",
        "atender_paciente()\n",
        "atender_paciente()\n",
        "atender_paciente()\n"
      ]
    },
    {
      "cell_type": "markdown",
      "source": [
        "Simulador de baraja de cartas españolas"
      ],
      "metadata": {
        "id": "4o-taAEN8QP_"
      }
    },
    {
      "cell_type": "code",
      "source": [
        "import random\n",
        "\n",
        "#Creamos una baraja española (sin 8 y 9)\n",
        "numeros = [1,2,3,4,5,6,7,10,11,12,13]\n",
        "palos = [\"oro\", \"copa\", \"espada\", \"basto\"]\n",
        "\n",
        "#generamos cartas como tuplas (numero, palo)\n",
        "\n",
        "baraja = [(numero,palo) for palo in palos for numero in numeros]\n",
        "\n",
        "#Barajar\n",
        "random.shuffle(baraja)\n",
        "\n",
        "#Sacar un numero de cartas\n",
        "def robar_cartas(n):\n",
        "  if len(baraja) >= n:\n",
        "    return [baraja.pop() for _ in range(n)]\n",
        "  else:\n",
        "    print(\"No hay suficientes cartas en la baraja.\")\n",
        "    return []\n",
        "\n",
        "def devolver_cartas(cartas):\n",
        "  baraja.extend(cartas)\n",
        "  random.shuffle(baraja)\n",
        "\n",
        "mano = robar_cartas(3)\n",
        "print(mano)\n",
        "devolver_cartas(mano)"
      ],
      "metadata": {
        "colab": {
          "base_uri": "https://localhost:8080/"
        },
        "id": "-3o57KXh8UOt",
        "outputId": "3a8ba26b-5acd-4bef-b1fc-b21a282c454f"
      },
      "execution_count": 6,
      "outputs": [
        {
          "output_type": "stream",
          "name": "stdout",
          "text": [
            "[(6, 'copa'), (4, 'oro'), (11, 'espada')]\n"
          ]
        }
      ]
    }
  ]
}