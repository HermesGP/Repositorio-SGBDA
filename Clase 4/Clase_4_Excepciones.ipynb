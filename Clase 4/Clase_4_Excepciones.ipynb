{
  "nbformat": 4,
  "nbformat_minor": 0,
  "metadata": {
    "colab": {
      "provenance": [],
      "mount_file_id": "1JU_vfj9lLja2YUoDE1QQcevWsBZOWHeU",
      "authorship_tag": "ABX9TyMkjKq67irH2v9Zm+HrHQrR",
      "include_colab_link": true
    },
    "kernelspec": {
      "name": "python3",
      "display_name": "Python 3"
    },
    "language_info": {
      "name": "python"
    }
  },
  "cells": [
    {
      "cell_type": "markdown",
      "metadata": {
        "id": "view-in-github",
        "colab_type": "text"
      },
      "source": [
        "<a href=\"https://colab.research.google.com/github/HermesGP/Repositorio-SGBDA/blob/main/Clase%204/Clase_4_Excepciones.ipynb\" target=\"_parent\"><img src=\"https://colab.research.google.com/assets/colab-badge.svg\" alt=\"Open In Colab\"/></a>"
      ]
    },
    {
      "cell_type": "code",
      "execution_count": 2,
      "metadata": {
        "colab": {
          "base_uri": "https://localhost:8080/"
        },
        "id": "pPmzkma5r_-O",
        "outputId": "5c662657-092a-434f-b87b-87df505b19bf"
      },
      "outputs": [
        {
          "output_type": "stream",
          "name": "stdout",
          "text": [
            "Ingrese el numerador: papa\n",
            "Error: Ingrese valores numéricos válidos.\n",
            "Intento de division realizado.\n",
            "Ingrese el numerador: 7\n",
            "Ingrese el denominador: 0\n",
            "Error: No se puede dividir por cero.\n",
            "Intento de division realizado.\n",
            "Ingrese el numerador: 10\n",
            "Ingrese el denominador: 5\n",
            "Intento de division realizado.\n",
            "El resultado de la division es: 2.0\n"
          ]
        }
      ],
      "source": [
        "def dividir():\n",
        "  while True:\n",
        "    try:\n",
        "      numerador = float(input(\"Ingrese el numerador: \"))\n",
        "      denominador = float(input(\"Ingrese el denominador: \"))\n",
        "      resultado = numerador / denominador\n",
        "    except ZeroDivisionError:\n",
        "      print(\"Error: No se puede dividir por cero.\")\n",
        "      continue\n",
        "    except ValueError:\n",
        "      print(\"Error: Ingrese valores numéricos válidos.\")\n",
        "      continue\n",
        "    except Exception as e:\n",
        "      print(\"Error:\", e)\n",
        "      continue\n",
        "    else:\n",
        "      return resultado\n",
        "    finally:\n",
        "      print(\"Intento de division realizado.\")\n",
        "division = dividir()\n",
        "print(\"El resultado de la division es:\", division)"
      ]
    }
  ]
}