{
  "nbformat": 4,
  "nbformat_minor": 0,
  "metadata": {
    "colab": {
      "provenance": [],
      "authorship_tag": "ABX9TyOAHZtDndnbzxDAJjkvD68l",
      "include_colab_link": true
    },
    "kernelspec": {
      "name": "python3",
      "display_name": "Python 3"
    },
    "language_info": {
      "name": "python"
    }
  },
  "cells": [
    {
      "cell_type": "markdown",
      "metadata": {
        "id": "view-in-github",
        "colab_type": "text"
      },
      "source": [
        "<a href=\"https://colab.research.google.com/github/HermesGP/Repositorio-SGBDA/blob/main/Clase%206/Clase6_SGBDA.ipynb\" target=\"_parent\"><img src=\"https://colab.research.google.com/assets/colab-badge.svg\" alt=\"Open In Colab\"/></a>"
      ]
    },
    {
      "cell_type": "markdown",
      "source": [
        "Clase persona (sin encapsulación)"
      ],
      "metadata": {
        "id": "9sUMozBX-4BB"
      }
    },
    {
      "cell_type": "code",
      "execution_count": 1,
      "metadata": {
        "id": "zvK4wtf7KENO"
      },
      "outputs": [],
      "source": [
        "class Persona:\n",
        "  def __init__(self, id, nombre, email):\n",
        "    self.id = id\n",
        "    self.nombre = nombre\n",
        "    self.email = email\n",
        "  def __str__(self):\n",
        "    return f\"Id: {self.id} Nombre: {self.nombre}, Email: {self.email}\"\n",
        "class Empleado(Persona):\n",
        "  def __init__(self, id, nombre, email, cargo, salario_base):\n",
        "    super().__init__(id, nombre, email)\n",
        "    self.cargo = cargo\n",
        "    self.salario_base  = salario_base\n",
        "  def __str__(self):\n",
        "    return f\"{super().__str__()}, Cargo: {self.cargo}, Salario: {self.salario_base}\"\n",
        "class Cliente(Persona):\n",
        "  def __init__(self, id, nombre, email, ruc):\n",
        "    super().__init__(id, nombre, email)\n",
        "    self.ruc = ruc\n",
        "  def __str__(self):\n",
        "    return f\"{super().__str__()}, RUC: {self.ruc}\"\n"
      ]
    },
    {
      "cell_type": "code",
      "source": [
        "hermes = Empleado(1, \"Hermes Garcia\", \"hgar1994@gmail.com\", \"Docente\", 3000000)\n",
        "print(hermes)\n",
        "pablo = Cliente(2, \"Pablo Perez\", \"pablinperez@gmail.com\", \"2536896-3\")\n",
        "print(pablo)"
      ],
      "metadata": {
        "colab": {
          "base_uri": "https://localhost:8080/"
        },
        "id": "e-qC6k9ZMKSC",
        "outputId": "1507f605-7ce0-4e2d-e8d3-48020e90dc0f"
      },
      "execution_count": 2,
      "outputs": [
        {
          "output_type": "stream",
          "name": "stdout",
          "text": [
            "Id: 1 Nombre: Hermes Garcia, Email: hgar1994@gmail.com, Cargo: Docente, Salario: 3000000\n",
            "Id: 2 Nombre: Pablo Perez, Email: pablinperez@gmail.com, RUC: 2536896-3\n"
          ]
        }
      ]
    },
    {
      "cell_type": "markdown",
      "source": [
        "Clase Inventario, usando estructuras de datos"
      ],
      "metadata": {
        "id": "MlWEPfJ3_CjU"
      }
    },
    {
      "cell_type": "code",
      "source": [
        "class Inventario:\n",
        "  def __init__(self):\n",
        "    self.inventario = {}\n",
        "  def agregar_producto(self, id_producto, nombre_producto, stock, precio):\n",
        "    self.inventario[id_producto] = {\"Nombre\": nombre_producto, \"Stock\": stock , \"Precio\": precio}\n",
        "  def actualizar_producto(self, id_producto, nuevo_stock, nuevo_precio):\n",
        "    if id_producto in self.inventario:\n",
        "      self.inventario[id_producto][\"Stock\"] = nuevo_stock\n",
        "      self.inventario[id_producto][\"Precio\"] = nuevo_precio\n",
        "    else:\n",
        "      print(\"Producto no encontrado en el inventario\")\n",
        "  def imprimir_detalles_producto(self, id_producto):\n",
        "    if id_producto in self.inventario:\n",
        "      producto = self.inventario[id_producto]\n",
        "      return f\"Nombre: {producto['Nombre']}, Stock: {producto['Stock']}, Precio: {producto['Precio']}\"\n",
        "    else:\n",
        "      print(\"Producto no encontrado en el inventario\")"
      ],
      "metadata": {
        "id": "DWpcRIHWYIw_"
      },
      "execution_count": 3,
      "outputs": []
    },
    {
      "cell_type": "markdown",
      "source": [
        "Cargando datos de ejemplo al inventario"
      ],
      "metadata": {
        "id": "gzLci4nH_HK4"
      }
    },
    {
      "cell_type": "code",
      "source": [
        "inventario = Inventario()\n",
        "inventario.agregar_producto(\"E001\", \"Notebook\", 30, 3500000)\n",
        "inventario.agregar_producto(\"E002\", \"Celular\", 60, 2500000)\n",
        "inventario.agregar_producto(\"E003\", \"Tablet\", 20, 3000000)\n",
        "inventario.agregar_producto(\"E004\", \"Audifono\", 80, 300000)\n",
        "print(\"Detalles de los productos: \")\n",
        "print(inventario.imprimir_detalles_producto(\"E001\"))\n",
        "print(inventario.imprimir_detalles_producto(\"E002\"))\n",
        "print(inventario.imprimir_detalles_producto(\"E003\"))\n",
        "print(inventario.imprimir_detalles_producto(\"E004\"))\n",
        "inventario.actualizar_producto(\"E002\", 30, 2700000)\n",
        "print(\"Detalles actualizados de E002: \")\n",
        "print(inventario.imprimir_detalles_producto(\"E002\"))"
      ],
      "metadata": {
        "colab": {
          "base_uri": "https://localhost:8080/"
        },
        "id": "XSNe6oXScZJJ",
        "outputId": "a9bb5313-00b3-40b7-f487-eeb803a4a7d5"
      },
      "execution_count": 4,
      "outputs": [
        {
          "output_type": "stream",
          "name": "stdout",
          "text": [
            "Detalles de los productos: \n",
            "Nombre: Notebook, Stock: 30, Precio: 3500000\n",
            "Nombre: Celular, Stock: 60, Precio: 2500000\n",
            "Nombre: Tablet, Stock: 20, Precio: 3000000\n",
            "Nombre: Audifono, Stock: 80, Precio: 300000\n",
            "Detalles actualizados de E002: \n",
            "Nombre: Celular, Stock: 30, Precio: 2700000\n"
          ]
        }
      ]
    },
    {
      "cell_type": "markdown",
      "source": [
        "Clases cuadrado y rectángulo para ver el polimorfismo"
      ],
      "metadata": {
        "id": "qK1Loo81_KVt"
      }
    },
    {
      "cell_type": "code",
      "source": [
        "class cuadrado:\n",
        "  def __init__(self, lado):\n",
        "    self.lado = lado\n",
        "  def area(self):\n",
        "    return self.lado * self.lado\n",
        "class rectangulo:\n",
        "  def __init__(self, largo,ancho):\n",
        "    self.largo = largo\n",
        "    self.ancho = ancho\n",
        "  def area(self):\n",
        "    return self.largo * self.ancho\n",
        "cuadrado_4 = cuadrado(4)\n",
        "print(cuadrado_4.area())\n",
        "rectangulo_3_6 = rectangulo(3,6)\n",
        "print(rectangulo_3_6.area())\n"
      ],
      "metadata": {
        "colab": {
          "base_uri": "https://localhost:8080/"
        },
        "id": "nxwtFui9Ptop",
        "outputId": "acf42fd4-dac7-40e0-d794-62b6b4e6fdee"
      },
      "execution_count": 5,
      "outputs": [
        {
          "output_type": "stream",
          "name": "stdout",
          "text": [
            "16\n",
            "18\n"
          ]
        }
      ]
    },
    {
      "cell_type": "markdown",
      "source": [
        "Clase Persona con decoradores para encapsulamiento"
      ],
      "metadata": {
        "id": "tcWnBCi5_Ue-"
      }
    },
    {
      "cell_type": "code",
      "source": [
        "class Persona_Encapsulada:\n",
        "  def __init__(self, nombre, edad, email):\n",
        "    self._nombre = nombre\n",
        "    self._edad = edad\n",
        "    self._email = email\n",
        "  @property\n",
        "  def nombre(self):\n",
        "    return self._nombre\n",
        "  @property\n",
        "  def email(self):\n",
        "    return self._email\n",
        "  @email.setter\n",
        "  def email(self, nuevo_mail):\n",
        "    self._email = nuevo_mail\n",
        "  @property\n",
        "  def edad(self):\n",
        "    return self._edad\n",
        "  @edad.setter\n",
        "  def edad(self, nueva_edad):\n",
        "    self._edad = nueva_edad"
      ],
      "metadata": {
        "id": "MHlqfCoTU6rs"
      },
      "execution_count": 6,
      "outputs": []
    },
    {
      "cell_type": "code",
      "source": [
        "juan = Persona_Encapsulada(\"Juan Gonzalez\", 35, \"juan1990@hotmail.com\")\n",
        "print(juan.edad)\n",
        "juan.edad = 56\n",
        "print(juan.edad)"
      ],
      "metadata": {
        "colab": {
          "base_uri": "https://localhost:8080/"
        },
        "id": "6_oGtIZjWb8d",
        "outputId": "5346380a-d1b6-42bd-cc27-25fa275ed668"
      },
      "execution_count": 7,
      "outputs": [
        {
          "output_type": "stream",
          "name": "stdout",
          "text": [
            "35\n",
            "56\n"
          ]
        }
      ]
    },
    {
      "cell_type": "markdown",
      "source": [
        "Clase con decoradores para métodos estáticos y de clase"
      ],
      "metadata": {
        "id": "QJi2ZD3u_aRK"
      }
    },
    {
      "cell_type": "code",
      "source": [
        "class matematica:\n",
        "  @classmethod\n",
        "  def sumar(cls, a , b):\n",
        "    return a + b\n",
        "  @staticmethod\n",
        "  def restar(a, b):\n",
        "    return a - b"
      ],
      "metadata": {
        "id": "gP8hjk_mXFdL"
      },
      "execution_count": 8,
      "outputs": []
    },
    {
      "cell_type": "code",
      "source": [
        "a = 5\n",
        "b = 3\n",
        "print(matematica.sumar(a,b))\n",
        "print(matematica.restar(a,b))"
      ],
      "metadata": {
        "colab": {
          "base_uri": "https://localhost:8080/"
        },
        "id": "DUgFFc89XUvc",
        "outputId": "317f45dd-29ed-49f6-c29d-beda41348ce5"
      },
      "execution_count": 9,
      "outputs": [
        {
          "output_type": "stream",
          "name": "stdout",
          "text": [
            "8\n",
            "2\n"
          ]
        }
      ]
    }
  ]
}