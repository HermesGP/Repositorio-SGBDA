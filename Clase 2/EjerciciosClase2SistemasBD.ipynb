{
  "nbformat": 4,
  "nbformat_minor": 0,
  "metadata": {
    "colab": {
      "provenance": [],
      "authorship_tag": "ABX9TyOU8LdrXvAX5lHRbAp19PPc",
      "include_colab_link": true
    },
    "kernelspec": {
      "name": "python3",
      "display_name": "Python 3"
    },
    "language_info": {
      "name": "python"
    }
  },
  "cells": [
    {
      "cell_type": "markdown",
      "metadata": {
        "id": "view-in-github",
        "colab_type": "text"
      },
      "source": [
        "<a href=\"https://colab.research.google.com/github/HermesGP/Repositorio-SGBDA/blob/main/Clase%202/EjerciciosClase2SistemasBD.ipynb\" target=\"_parent\"><img src=\"https://colab.research.google.com/assets/colab-badge.svg\" alt=\"Open In Colab\"/></a>"
      ]
    },
    {
      "cell_type": "markdown",
      "source": [
        "Imprimir todo lo que escriba el usuario hasta que este diga basta de cualquier forma\n"
      ],
      "metadata": {
        "id": "LqX9trssMwKP"
      }
    },
    {
      "cell_type": "code",
      "source": [
        "while True:\n",
        "    intro = input()\n",
        "    if \"basta\" in intro.lower():\n",
        "        break\n",
        "    else:\n",
        "        print(intro)"
      ],
      "metadata": {
        "id": "xWOAC5IUNFry"
      },
      "execution_count": null,
      "outputs": []
    },
    {
      "cell_type": "markdown",
      "source": [
        "Hacer un menú para una app de consola donde el usuario teclea un numero para elegir la opción"
      ],
      "metadata": {
        "id": "zenzo6xINy-2"
      }
    },
    {
      "cell_type": "code",
      "source": [
        "print(\"\"\"Menu principal, digite el número correspondiente a la operación a realizar:\n",
        "      1. Crear un nuevo registro\n",
        "      2. Actualizar un registro existente\n",
        "      3. Buscar entre los registros exitentes\n",
        "      4. Eliminar un registro\"\"\")\n",
        "while True:\n",
        "    eleccion = int(input())\n",
        "    match eleccion:\n",
        "        case 1:\n",
        "           print(\"Creación de Registros\")\n",
        "        case 2:\n",
        "           print(\"Actualización de registros\")\n",
        "        case 3:\n",
        "           print(\"Busqueda de registros\")\n",
        "        case 4:\n",
        "           print(\"Eliminación de registros\")\n",
        "        case _:\n",
        "           print(\"Error, favor ingresar de nuevo su elección\")\n",
        "           continue\n",
        "    break"
      ],
      "metadata": {
        "colab": {
          "base_uri": "https://localhost:8080/"
        },
        "id": "uzqY3eOoN-e1",
        "outputId": "98ff2b74-1291-4e4b-ced2-cbdea3166a34"
      },
      "execution_count": null,
      "outputs": [
        {
          "output_type": "stream",
          "name": "stdout",
          "text": [
            "Menu principal, digite el número correspondiente a la operación a realizar: \n",
            "      1. Crear un nuevo registro\n",
            "      2. Actualizar un registro existente\n",
            "      3. Buscar entre los registros exitentes\n",
            "      4. Eliminar un registro\n",
            "1\n",
            "Creación de Registros\n"
          ]
        }
      ]
    },
    {
      "cell_type": "code",
      "source": [
        "lista_fibo = [0, 1]\n",
        "while True:\n",
        "    entrada = input(\"Introduzca la longitud de su lista de nros de fibonacci: \")\n",
        "    if entrada.isdigit():\n",
        "        numero = int(entrada)\n",
        "        if numero >= 3:\n",
        "            break\n",
        "        else:\n",
        "            print(\"Eso no es un número válido. Inténtalo de nuevo.\")\n",
        "    else:\n",
        "        print(\"Eso no es un número válido. Inténtalo de nuevo.\")\n",
        "for i in range (2,numero):\n",
        "    lista_fibo.append(lista_fibo[i - 1] + lista_fibo[i - 2])\n",
        "\n",
        "print(\"Secuencia de fibonacci generada: \")\n",
        "print(lista_fibo)"
      ],
      "metadata": {
        "colab": {
          "base_uri": "https://localhost:8080/"
        },
        "id": "lP3k5kcUPYRO",
        "outputId": "b69bb2a0-df77-49b3-c1c6-c5c8f853142c"
      },
      "execution_count": null,
      "outputs": [
        {
          "output_type": "stream",
          "name": "stdout",
          "text": [
            "Introduzca la longitud de su lista de nros de fibonacci: j\n",
            "Eso no es un número válido. Inténtalo de nuevo.\n",
            "Introduzca la longitud de su lista de nros de fibonacci: 1\n",
            "Eso no es un número válido. Inténtalo de nuevo.\n",
            "Introduzca la longitud de su lista de nros de fibonacci: 8\n",
            "Secuencia de fibonacci generada: \n",
            "[0, 1, 1, 2, 3, 5, 8, 13]\n"
          ]
        }
      ]
    },
    {
      "cell_type": "markdown",
      "source": [
        "Hacer el producto escalar de 2 vectores\n"
      ],
      "metadata": {
        "id": "Ym6FBpXdRExZ"
      }
    },
    {
      "cell_type": "code",
      "source": [
        "a = [1, 3]\n",
        "b = [4, 1]\n",
        "#producto escalar es 1*4 + 3*1 = 7\n",
        "producto_escalar = 0\n",
        "if len(a) == len(b):\n",
        "    for i in range(len(a)):\n",
        "        producto_escalar += a[i]*b[i]\n",
        "    print(f\"El producto escalar es: {producto_escalar}\")\n",
        "else:\n",
        "    print(\"Los vectores son de diferente tamaño\")"
      ],
      "metadata": {
        "colab": {
          "base_uri": "https://localhost:8080/"
        },
        "id": "Vlq_yuyvRCLy",
        "outputId": "02f699f6-6781-49ca-d626-392cf96cf15a"
      },
      "execution_count": null,
      "outputs": [
        {
          "output_type": "stream",
          "name": "stdout",
          "text": [
            "El producto escalar es: 7\n"
          ]
        }
      ]
    },
    {
      "cell_type": "markdown",
      "source": [
        "Hallar la varianza de una lista de numeros"
      ],
      "metadata": {
        "id": "NUZ76QpXUrcG"
      }
    },
    {
      "cell_type": "code",
      "source": [
        "# varianza es la suma de el cuadrado de la difencia entre cada elemento de la lista y su promedio\n",
        "# dividido por el numero de elementos de la lista - 1\n",
        "a = [1, 4, 5, 7, 5, 9]\n",
        "suma = 0\n",
        "for x in a:\n",
        "    suma += x\n",
        "N = len(a)\n",
        "promedio = suma/N\n",
        "varianza = 0\n",
        "for x in a:\n",
        "    varianza += ((x - promedio)**2)/(N-1)\n",
        "print(f\"El promedio es: {round(promedio,2)}\")\n",
        "print(f\"La varianza es: {round(varianza,2)}\")"
      ],
      "metadata": {
        "colab": {
          "base_uri": "https://localhost:8080/"
        },
        "id": "76VaOn23UxIP",
        "outputId": "ccc452d2-60aa-4a14-b900-d74f8cbb9b5a"
      },
      "execution_count": null,
      "outputs": [
        {
          "output_type": "stream",
          "name": "stdout",
          "text": [
            "El promedio es: 5.17\n",
            "La varianza es: 7.37\n"
          ]
        }
      ]
    },
    {
      "cell_type": "markdown",
      "source": [
        "Contar el numero de vocales en una palabra introducida por el usuario"
      ],
      "metadata": {
        "id": "RcxVRdsSWOZI"
      }
    },
    {
      "cell_type": "code",
      "source": [
        "palabra = input(\"Introduce una palabra: \")\n",
        "palabra = palabra.lower()\n",
        "vocales = [\"a\", \"e\", \"i\", \"o\", \"u\"]\n",
        "for vocal in vocales:\n",
        "    veces_vocales = 0\n",
        "    for letra in palabra:\n",
        "        if letra == vocal:\n",
        "            veces_vocales += 1\n",
        "    print(f\"La vocal {vocal} aparece {veces_vocales} veces\")"
      ],
      "metadata": {
        "colab": {
          "base_uri": "https://localhost:8080/"
        },
        "id": "U8gH-23sWV1m",
        "outputId": "95f54dc8-19f1-4d34-ae6c-1b677508e372"
      },
      "execution_count": null,
      "outputs": [
        {
          "output_type": "stream",
          "name": "stdout",
          "text": [
            "Introduce una palabra: sfadfaEERER\n",
            "La vocal a aparece 2 veces\n",
            "La vocal e aparece 3 veces\n",
            "La vocal i aparece 0 veces\n",
            "La vocal o aparece 0 veces\n",
            "La vocal u aparece 0 veces\n"
          ]
        }
      ]
    }
  ]
}