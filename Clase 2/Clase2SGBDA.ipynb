{
  "nbformat": 4,
  "nbformat_minor": 0,
  "metadata": {
    "colab": {
      "provenance": [],
      "authorship_tag": "ABX9TyNC7V2qilYi6OXQ0dvJmcal",
      "include_colab_link": true
    },
    "kernelspec": {
      "name": "python3",
      "display_name": "Python 3"
    },
    "language_info": {
      "name": "python"
    }
  },
  "cells": [
    {
      "cell_type": "markdown",
      "metadata": {
        "id": "view-in-github",
        "colab_type": "text"
      },
      "source": [
        "<a href=\"https://colab.research.google.com/github/HermesGP/Repositorio-SGBDA/blob/main/Clase%202/Clase2SGBDA.ipynb\" target=\"_parent\"><img src=\"https://colab.research.google.com/assets/colab-badge.svg\" alt=\"Open In Colab\"/></a>"
      ]
    },
    {
      "cell_type": "markdown",
      "source": [
        "Listas en python\n"
      ],
      "metadata": {
        "id": "vA46bhbCih8A"
      }
    },
    {
      "cell_type": "code",
      "execution_count": 7,
      "metadata": {
        "colab": {
          "base_uri": "https://localhost:8080/"
        },
        "id": "6TB_7hzRfzBP",
        "outputId": "8b7b8121-567f-47ee-9925-f4ae871cc999"
      },
      "outputs": [
        {
          "output_type": "stream",
          "name": "stdout",
          "text": [
            "1\n",
            "[1, 2, 8, 5]\n",
            "u\n"
          ]
        }
      ],
      "source": [
        "mis_numeros = [1, 2, 3, 4, 5, 6]\n",
        "mis_frutas = ['banana', 'manzana', 'pera']\n",
        "mis_items = [1, 'sol', 3.5, None, False]\n",
        "lista_de_listas = [[1,2,3], [4,7,5], [1,7,8]]\n",
        "\n",
        "#Las listas son mutables, se accede a sus elementos con lista[indice]\n",
        "#Indice empieza con 0\n",
        "uno = mis_numeros[0]\n",
        "print(uno)\n",
        "mis_numeros[2] = 8\n",
        "print(mis_numeros)\n",
        "\n",
        "#No se puede modificar tipos de datos compuestos inmutables\n",
        "mi_cadena = 'Saludos'\n",
        "print(mi_cadena[3])\n",
        "#mi_cadena[0] = 's'"
      ]
    },
    {
      "cell_type": "markdown",
      "source": [
        "Slice Notation/Rebanadas de listas"
      ],
      "metadata": {
        "id": "L0kkSUqtimKu"
      }
    },
    {
      "cell_type": "code",
      "source": [
        "mis_numeros = [1, 2, 3, 4, 5, 6, 7, 8, 9, 10, 11, 12, 13, 14, 15]\n",
        "#Slicing con lista[inicio(incluyente):fin(excluyente):paso(opcional)]\n",
        "print(mis_numeros[3:10:3])\n",
        "print(mis_numeros[1:4])\n",
        "print(mis_numeros[3:])\n",
        "print(mis_numeros[:5])\n",
        "print(mis_numeros[::2])\n",
        "#Hacer una copia de la lista\n",
        "print(\"\\nCopia de la lista\")\n",
        "copia_mis_numeros = mis_numeros[:]\n",
        "print(copia_mis_numeros)\n",
        "#Usando índices negativos\n",
        "print(\"\\nUsando indices negativos\")\n",
        "print(mis_numeros[-1])\n",
        "print(mis_numeros[-5:-2])\n",
        "print(mis_numeros[-5:])\n",
        "print(mis_numeros[:-2])\n",
        "print(mis_numeros[-2:-8:-2])\n",
        "#Hacer una copia al revez de la lista\n",
        "print(\"\\nCopia al revez de la lista\")\n",
        "copia_reversa_mis_numeros = mis_numeros[::-1]\n",
        "print(copia_reversa_mis_numeros)\n",
        "#Usando Rebanadas con cadenas\n",
        "print(\"\\nUsando Rebanadas con cadenas\")\n",
        "cadena = 'Hola Mundo'\n",
        "print(cadena[5:])\n",
        "print(cadena[:4])\n",
        "print(cadena[-5:])\n",
        "print(cadena[:-6])\n",
        "#"
      ],
      "metadata": {
        "colab": {
          "base_uri": "https://localhost:8080/"
        },
        "id": "tFMSiuO9iuG3",
        "outputId": "498d1dcb-4042-4e3c-aa50-18007214b993"
      },
      "execution_count": 29,
      "outputs": [
        {
          "output_type": "stream",
          "name": "stdout",
          "text": [
            "[4, 7, 10]\n",
            "[2, 3, 4]\n",
            "[4, 5, 6, 7, 8, 9, 10, 11, 12, 13, 14, 15]\n",
            "[1, 2, 3, 4, 5]\n",
            "[1, 3, 5, 7, 9, 11, 13, 15]\n",
            "\n",
            "Copia de la lista\n",
            "[1, 2, 3, 4, 5, 6, 7, 8, 9, 10, 11, 12, 13, 14, 15]\n",
            "\n",
            "Usando indices negativos\n",
            "15\n",
            "[11, 12, 13]\n",
            "[11, 12, 13, 14, 15]\n",
            "[1, 2, 3, 4, 5, 6, 7, 8, 9, 10, 11, 12, 13]\n",
            "[14, 12, 10]\n",
            "\n",
            "Copia al revez de la lista\n",
            "[15, 14, 13, 12, 11, 10, 9, 8, 7, 6, 5, 4, 3, 2, 1]\n",
            "\n",
            "Usando Rebanadas con cadenas\n",
            "Mundo\n",
            "Hola\n",
            "Mundo\n",
            "Hola\n"
          ]
        }
      ]
    },
    {
      "cell_type": "markdown",
      "source": [
        "Métodos para analizar listas"
      ],
      "metadata": {
        "id": "9x68U6hGmbCP"
      }
    },
    {
      "cell_type": "code",
      "source": [
        "mi_lista = [1, 6, 8, 7, 3, 6, 8, 6]\n",
        "print(len(mi_lista))\n",
        "print(max(mi_lista))\n",
        "print(min(mi_lista))\n",
        "print(sum(mi_lista))\n",
        "print(mi_lista.count(6))\n",
        "print(mi_lista.index(8))\n",
        "#Operadores de pertenencia\n",
        "print(6 in mi_lista)\n",
        "print(6 not in mi_lista)"
      ],
      "metadata": {
        "colab": {
          "base_uri": "https://localhost:8080/"
        },
        "id": "WYEl6W2emd8_",
        "outputId": "8d2bae72-81b8-48c8-eb6d-ef3450753c75"
      },
      "execution_count": 47,
      "outputs": [
        {
          "output_type": "stream",
          "name": "stdout",
          "text": [
            "8\n",
            "8\n",
            "1\n",
            "45\n",
            "3\n",
            "2\n",
            "True\n",
            "False\n"
          ]
        }
      ]
    },
    {
      "cell_type": "markdown",
      "source": [
        "Métodos para modificar listas"
      ],
      "metadata": {
        "id": "EJ6ZS702mxI-"
      }
    },
    {
      "cell_type": "code",
      "source": [
        "mi_lista = [1, 6, 8, 7, 3]\n",
        "mi_lista.append(2)\n",
        "print(mi_lista)\n",
        "otra_lista = [4, 9, 5]\n",
        "mi_lista.extend(otra_lista)\n",
        "print(mi_lista)\n",
        "mi_lista.insert(5,1)\n",
        "print(mi_lista)\n",
        "mi_lista.remove(1)\n",
        "print(mi_lista)\n",
        "ocho = mi_lista.pop(1)\n",
        "print(ocho)\n",
        "print(mi_lista)\n",
        "mi_lista.clear()\n",
        "print(mi_lista)"
      ],
      "metadata": {
        "colab": {
          "base_uri": "https://localhost:8080/"
        },
        "id": "tckXkwFVnBdH",
        "outputId": "3c158535-842c-410c-f43a-a8feaf320ff0"
      },
      "execution_count": 38,
      "outputs": [
        {
          "output_type": "stream",
          "name": "stdout",
          "text": [
            "[1, 6, 8, 7, 3, 2]\n",
            "[1, 6, 8, 7, 3, 2, 4, 9, 5]\n",
            "[1, 6, 8, 7, 3, 1, 2, 4, 9, 5]\n",
            "[6, 8, 7, 3, 1, 2, 4, 9, 5]\n",
            "8\n",
            "[6, 7, 3, 1, 2, 4, 9, 5]\n",
            "[]\n"
          ]
        }
      ]
    },
    {
      "cell_type": "markdown",
      "source": [
        "Métodos para buscar y ordenar listas"
      ],
      "metadata": {
        "id": "wG5sVjyBotKf"
      }
    },
    {
      "cell_type": "code",
      "source": [
        "lista_float = [1 , 7 , 9 ,59, 47, 1.25, 3.14]\n",
        "lista_str = [\"juanito\", \"alberto\", \"bonifacio\", \"Alberto\"]\n",
        "lista_float.reverse()\n",
        "print(lista_float)\n",
        "lista_str.reverse()\n",
        "print(lista_str)\n",
        "#Sort ordena de manera ascendente, mayuculas primero\n",
        "lista_float.sort()\n",
        "print(lista_float)\n",
        "lista_str.sort()\n",
        "print(lista_str)\n",
        "#Ordenar de manera descendente\n",
        "otra_lista = [42, 9, 54, 11, 63]\n",
        "otra_lista.sort(reverse=True)\n",
        "#No se pueden combinar métodos que devuelven None\n",
        "#otra_lista.sort().reverse()\n",
        "print(otra_lista)\n",
        "#Métodos que devuelven una nueva lista\n",
        "print(sorted(otra_lista))\n",
        "print(list(reversed(lista_float)))"
      ],
      "metadata": {
        "colab": {
          "base_uri": "https://localhost:8080/"
        },
        "id": "gHe370rio8gH",
        "outputId": "cfaefc6f-393a-4bc6-ccba-5cc32b776df9"
      },
      "execution_count": 46,
      "outputs": [
        {
          "output_type": "stream",
          "name": "stdout",
          "text": [
            "[3.14, 1.25, 47, 59, 9, 7, 1]\n",
            "['Alberto', 'bonifacio', 'alberto', 'juanito']\n",
            "[1, 1.25, 3.14, 7, 9, 47, 59]\n",
            "['Alberto', 'alberto', 'bonifacio', 'juanito']\n",
            "[63, 54, 42, 11, 9]\n",
            "[9, 11, 42, 54, 63]\n",
            "[59, 47, 9, 7, 3.14, 1.25, 1]\n"
          ]
        }
      ]
    },
    {
      "cell_type": "markdown",
      "source": [
        "Bucle While"
      ],
      "metadata": {
        "id": "BR8q6_mmrmaO"
      }
    },
    {
      "cell_type": "code",
      "source": [
        "#Programa que imprime los numeros del 1 al 10\n",
        "i = 1\n",
        "while i<=10:\n",
        "  print(i)\n",
        "  i += 1"
      ],
      "metadata": {
        "colab": {
          "base_uri": "https://localhost:8080/"
        },
        "id": "Oqqs4qwcrqLf",
        "outputId": "e133219c-69ca-41a2-f3ec-540297de39a6"
      },
      "execution_count": 49,
      "outputs": [
        {
          "output_type": "stream",
          "name": "stdout",
          "text": [
            "1\n",
            "2\n",
            "3\n",
            "4\n",
            "5\n",
            "6\n",
            "7\n",
            "8\n",
            "9\n",
            "10\n"
          ]
        }
      ]
    },
    {
      "cell_type": "code",
      "source": [
        "#while True para un programa que remeda todo lo que le dice el usuario\n",
        "while True:\n",
        "  frase = input('Escribe una palabra: ')\n",
        "  if 'basta' in frase.lower():\n",
        "    break\n",
        "  print(frase)"
      ],
      "metadata": {
        "colab": {
          "base_uri": "https://localhost:8080/"
        },
        "id": "KKd5jumAsLWm",
        "outputId": "b37040ff-33c6-431e-8792-4793d239073b"
      },
      "execution_count": 56,
      "outputs": [
        {
          "name": "stdout",
          "output_type": "stream",
          "text": [
            "Escribe una palabra: Hola\n",
            "Hola\n",
            "Escribe una palabra: Que tal\n",
            "Que tal\n",
            "Escribe una palabra: No me molestes\n",
            "No me molestes\n",
            "Escribe una palabra: Basta, para\n"
          ]
        }
      ]
    },
    {
      "cell_type": "markdown",
      "source": [
        "Bucle for"
      ],
      "metadata": {
        "id": "Wt4V3pNxuJEY"
      }
    },
    {
      "cell_type": "code",
      "source": [
        "#Imprimir los elementos de una lista\n",
        "lista = [1,2,3,4,5]\n",
        "for elemento in lista:\n",
        "    print(elemento)\n",
        "#Imprimir los elementos de indices impares\n",
        "print(\"\\n\")\n",
        "for elemento in lista[1::2]:\n",
        "    print(elemento)"
      ],
      "metadata": {
        "colab": {
          "base_uri": "https://localhost:8080/"
        },
        "id": "Gs0bJQGeuK0Y",
        "outputId": "84f2c009-a41d-4fd1-8416-ecb61f46150e"
      },
      "execution_count": 62,
      "outputs": [
        {
          "output_type": "stream",
          "name": "stdout",
          "text": [
            "1\n",
            "2\n",
            "3\n",
            "4\n",
            "5\n",
            "\n",
            "\n",
            "2\n",
            "4\n"
          ]
        }
      ]
    },
    {
      "cell_type": "markdown",
      "source": [
        "Función range"
      ],
      "metadata": {
        "id": "f6QUETfTvCa4"
      }
    },
    {
      "cell_type": "code",
      "source": [
        "#Imprimir los numeros de 1 al 10 con for y range\n",
        "for i in range(1, 11):\n",
        "    print(i)\n",
        "#Range itera una n catidad de veces, pero los numeros guardados empiezan en 0\n",
        "\n",
        "#Hacer una lista de numeros pares, de una longitud dada por el usuario\n",
        "longitud = int(input(\"Ingrese la longitud de la lista de números pares: \"))\n",
        "lista_pares = []\n",
        "for i in range(longitud):\n",
        "    lista_pares.append(i*2)\n",
        "print(lista_pares)\n",
        "print(range(5))"
      ],
      "metadata": {
        "colab": {
          "base_uri": "https://localhost:8080/"
        },
        "id": "_1WZ5h9VvEzf",
        "outputId": "793f5cdb-4b76-449d-fd6d-0a042f41c91f"
      },
      "execution_count": 83,
      "outputs": [
        {
          "output_type": "stream",
          "name": "stdout",
          "text": [
            "1\n",
            "2\n",
            "3\n",
            "4\n",
            "5\n",
            "6\n",
            "7\n",
            "8\n",
            "9\n",
            "10\n",
            "Ingrese la longitud de la lista de números pares: 5\n",
            "[0, 2, 4, 6, 8]\n",
            "range(0, 5)\n"
          ]
        }
      ]
    },
    {
      "cell_type": "markdown",
      "source": [
        "Lista de fibonacci con for y range"
      ],
      "metadata": {
        "id": "X2Eof-2ExmrQ"
      }
    },
    {
      "cell_type": "code",
      "source": [
        "lista_fibo = [0, 1]\n",
        "while True:\n",
        "    entrada = input(\"Ingrese un numero entero positivo mayor a 2: \")\n",
        "    if entrada.isnumeric():\n",
        "        numero = int(entrada)\n",
        "        if numero > 2:\n",
        "            break\n",
        "        else:\n",
        "            print(\"El numero debe ser mayor a 2\")\n",
        "    else:\n",
        "        print(\"Debe ingresar un numero entero\")\n",
        "for i in range(2, numero):\n",
        "    lista_fibo.append(lista_fibo[i-1] + lista_fibo[i-2])\n",
        "print(lista_fibo)\n",
        "#"
      ],
      "metadata": {
        "colab": {
          "base_uri": "https://localhost:8080/"
        },
        "id": "4f-D0ewcxsB3",
        "outputId": "63f234a3-9aeb-4a24-fa11-ffd2aa48108f"
      },
      "execution_count": 82,
      "outputs": [
        {
          "output_type": "stream",
          "name": "stdout",
          "text": [
            "Ingrese un numero entero positivo mayor a 2: 15\n",
            "[0, 1, 1, 2, 3, 5, 8, 13, 21, 34, 55, 89, 144, 233, 377]\n"
          ]
        }
      ]
    },
    {
      "cell_type": "markdown",
      "source": [
        "Comprehensión de listas"
      ],
      "metadata": {
        "id": "-2_KCwINzn9n"
      }
    },
    {
      "cell_type": "code",
      "source": [
        "#Lista de las potencias de 2\n",
        "potencias = [2**i for i in range(11)]\n",
        "print(potencias)\n",
        "#Código equivalente\n",
        "potencias = []\n",
        "for i in range(11):\n",
        "    potencias.append(2**i)\n",
        "print(potencias)\n",
        "\n",
        "#lista de los cuadrados de numeros pares\n",
        "cuadrados = [i**2 for i in range(11) if i%2==0]\n",
        "print(cuadrados)\n",
        "#Código equivalente\n",
        "cuadrados = []\n",
        "for i in range(11):\n",
        "    if i%2==0:\n",
        "        cuadrados.append(i**2)\n",
        "print(cuadrados)\n",
        "\n",
        "#Limpiar una lista de nombres\n",
        "nombres = [\"   Ana  \", \"hermes\", \"  Juan\", \"  Martina \", \"ariel  \"]\n",
        "nombres_limpios = [nombre.strip().title() for nombre in nombres]\n",
        "print(nombres_limpios)\n",
        "#Código equivalente\n",
        "nombres_limpios = []\n",
        "for nombre in nombres:\n",
        "    nombres_limpios.append(nombre.strip().title())\n",
        "print(nombres_limpios)\n",
        "\n",
        "#etiquetar numeros como par o impar\n",
        "numeros = [1, 2, 3, 4, 5, 6, 7, 8, 9, 10]\n",
        "etiquetas = [\"par\" if numero%2==0 else \"impar\" for numero in numeros]\n",
        "print(etiquetas)\n",
        "#Codigo equivalente\n",
        "etiquetas = []\n",
        "for numero in numeros:\n",
        "    if numero%2==0:\n",
        "        etiquetas.append(\"par\")\n",
        "    else:\n",
        "        etiquetas.append(\"impar\")\n",
        "print(etiquetas)"
      ],
      "metadata": {
        "colab": {
          "base_uri": "https://localhost:8080/"
        },
        "id": "AU-nMzg9zrMo",
        "outputId": "913bcb17-59f7-4489-f378-d3607d25d005"
      },
      "execution_count": 88,
      "outputs": [
        {
          "output_type": "stream",
          "name": "stdout",
          "text": [
            "[1, 2, 4, 8, 16, 32, 64, 128, 256, 512, 1024]\n",
            "[1, 2, 4, 8, 16, 32, 64, 128, 256, 512, 1024]\n",
            "[0, 4, 16, 36, 64, 100]\n",
            "[0, 4, 16, 36, 64, 100]\n",
            "['Ana', 'Hermes', 'Juan', 'Martina', 'Ariel']\n",
            "['Ana', 'Hermes', 'Juan', 'Martina', 'Ariel']\n",
            "['impar', 'par', 'impar', 'par', 'impar', 'par', 'impar', 'par', 'impar', 'par']\n",
            "['impar', 'par', 'impar', 'par', 'impar', 'par', 'impar', 'par', 'impar', 'par']\n"
          ]
        }
      ]
    },
    {
      "cell_type": "markdown",
      "source": [
        "Else y for"
      ],
      "metadata": {
        "id": "KvnDKJRY12eg"
      }
    },
    {
      "cell_type": "code",
      "source": [
        "#Mirar si un numero introducido por el usuario es primo\n",
        "\n",
        "#Si no es primo, imprimir sus divisores y factores primos\n",
        "\n",
        "while True:\n",
        "    entrada = input(\"Ingrese un numero entero positivo: \")\n",
        "    if entrada.isnumeric():\n",
        "        numero = int(entrada)\n",
        "        if numero > 0:\n",
        "            break\n",
        "        else:\n",
        "            print(\"El numero debe ser postivo\")\n",
        "    else:\n",
        "        print(\"Debe ingresar un numero entero positivo\")\n",
        "for i in range(2, numero):\n",
        "    if numero%i==0:\n",
        "        print(f\"El numero {numero} no es primo\")\n",
        "        print(f\"Sus divisores son: \")\n",
        "        for j in range(1, numero+1):\n",
        "            if numero%j==0:\n",
        "                print(j, end=\" \")\n",
        "        print(\"\\nSus factores primos son: \")\n",
        "        for k in range(2, numero+1):\n",
        "            while numero%k==0:\n",
        "                print(k, end=\" \")\n",
        "                numero //= k\n",
        "        break\n",
        "else:\n",
        "    print(f\"El numero {numero} es primo\")"
      ],
      "metadata": {
        "colab": {
          "base_uri": "https://localhost:8080/"
        },
        "id": "czXODAhe14jo",
        "outputId": "77244d4e-19fe-4bf8-c602-efa650808197"
      },
      "execution_count": 97,
      "outputs": [
        {
          "output_type": "stream",
          "name": "stdout",
          "text": [
            "Ingrese un numero entero positivo: 17\n",
            "El numero 17 es primo\n"
          ]
        }
      ]
    },
    {
      "cell_type": "markdown",
      "source": [
        "Programa con for anidado (sin range)"
      ],
      "metadata": {
        "id": "z7f7WB-A4BJR"
      }
    },
    {
      "cell_type": "code",
      "source": [
        "#Contar cuantas veces aparece una vocal en una frase escrita por el usuario\n",
        "frase = input(\"Ingrese una frase: \")\n",
        "frase.lower()\n",
        "vocales = ['a', 'e', 'i', 'o', 'u']\n",
        "for vocal in vocales:\n",
        "    contador = 0\n",
        "    for letra in frase:\n",
        "        if letra == vocal:\n",
        "            contador += 1\n",
        "    print(f\"La vocal {vocal} aparece {contador} veces\")"
      ],
      "metadata": {
        "colab": {
          "base_uri": "https://localhost:8080/"
        },
        "id": "uJMCrK6v4H9_",
        "outputId": "f06dc641-3d0d-4e2b-886d-c31da860de98"
      },
      "execution_count": 98,
      "outputs": [
        {
          "output_type": "stream",
          "name": "stdout",
          "text": [
            "Ingrese una frase: Hola, me gusta comer uranio enriquecido\n",
            "La vocal a aparece 3 veces\n",
            "La vocal e aparece 4 veces\n",
            "La vocal i aparece 3 veces\n",
            "La vocal o aparece 4 veces\n",
            "La vocal u aparece 3 veces\n"
          ]
        }
      ]
    },
    {
      "cell_type": "markdown",
      "source": [
        "For anidados con range"
      ],
      "metadata": {
        "id": "weQnt7Vz5MOv"
      }
    },
    {
      "cell_type": "code",
      "source": [
        "#Hacer la multiplicación de dos matrices\n",
        "matriz_1 = [[1, 2, 3], [4, 5, 6]]\n",
        "matriz_2 = [[7, 8], [9, 10], [11, 12]]\n",
        "\n",
        "#Verificar si las matrices se pueden multiplicar\n",
        "if len(matriz_1[0]) != len(matriz_2):\n",
        "    print(\"Las matrices no se pueden multiplicar\")\n",
        "\n",
        "#Iniciar una matriz vacía con ceros con comprehension de listas\n",
        "resultado = [[0 for _ in range(len(matriz_2[0]))] for _ in range(len(matriz_1))]\n",
        "\n",
        "#Codigo equivalente\n",
        "#resultado = []\n",
        "#for _ in range(len(matriz_1)):\n",
        "#    fila = []\n",
        "#    for _ in range(len(matriz_2[0])):\n",
        "#        fila.append(0)\n",
        "#    resultado.append(fila)\n",
        "\n",
        "#Multiplicar las matrices\n",
        "for i in range(len(matriz_1)):\n",
        "    for j in range(len(matriz_2[0])):\n",
        "        for k in range(len(matriz_2)):\n",
        "            resultado[i][j] += matriz_1[i][k] * matriz_2[k][j]\n",
        "\n",
        "for fila in resultado:\n",
        "    print(fila)\n"
      ],
      "metadata": {
        "colab": {
          "base_uri": "https://localhost:8080/"
        },
        "id": "qAV9hi_85E5Q",
        "outputId": "f3387083-00b2-4b64-8aac-58eba64d52f5"
      },
      "execution_count": 99,
      "outputs": [
        {
          "output_type": "stream",
          "name": "stdout",
          "text": [
            "[58, 64]\n",
            "[139, 154]\n"
          ]
        }
      ]
    },
    {
      "cell_type": "markdown",
      "source": [
        "Calcular las medidas de tendencia central, con y sin bibliotecas"
      ],
      "metadata": {
        "id": "Ry-7p3xf7aOR"
      }
    },
    {
      "cell_type": "code",
      "source": [
        "import statistics\n",
        "\n",
        "lista = [1, 4, 1, 8, 3, 5, 6, 1, 2]\n",
        "#promedio sin statistics\n",
        "promedio = sum(lista)/len(lista)\n",
        "print(promedio)\n",
        "\n",
        "#promedio con statistics\n",
        "print(statistics.mean(lista))\n",
        "\n",
        "#mediana sin statistics\n",
        "lista.sort()\n",
        "n = len(lista)\n",
        "mitad = n // 2\n",
        "if n % 2 == 0:\n",
        "    mediana = (lista[mitad - 1] + lista[mitad]) / 2\n",
        "else:\n",
        "    mediana = lista[mitad]\n",
        "print(mediana)\n",
        "\n",
        "#mediana con statistics\n",
        "print(statistics.median(lista))\n",
        "\n",
        "#varianza sin statistics\n",
        "varianza = sum([(x - promedio)**2 for x in lista]) / (len(lista) - 1)\n",
        "print(varianza)\n",
        "#Codigo equivalente sin comprehension de listas\n",
        "varianza = 0\n",
        "for x in lista:\n",
        "    varianza += (x - promedio)**2\n",
        "varianza /= (len(lista) - 1)\n",
        "print(varianza)\n",
        "#varianza con statistics\n",
        "print(statistics.variance(lista))"
      ],
      "metadata": {
        "colab": {
          "base_uri": "https://localhost:8080/"
        },
        "id": "sm3Kn7JV7e8o",
        "outputId": "ec05f1d2-ac7a-4a0d-ae52-1b5107f58e66"
      },
      "execution_count": 103,
      "outputs": [
        {
          "output_type": "stream",
          "name": "stdout",
          "text": [
            "3.4444444444444446\n",
            "3.4444444444444446\n",
            "3\n",
            "3\n",
            "6.277777777777778\n",
            "6.277777777777779\n",
            "6.277777777777778\n"
          ]
        }
      ]
    }
  ]
}