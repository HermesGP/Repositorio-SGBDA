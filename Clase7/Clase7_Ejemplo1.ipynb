{
  "nbformat": 4,
  "nbformat_minor": 0,
  "metadata": {
    "colab": {
      "provenance": [],
      "authorship_tag": "ABX9TyN2xwOCwFXvs0sEq9j9xlug",
      "include_colab_link": true
    },
    "kernelspec": {
      "name": "python3",
      "display_name": "Python 3"
    },
    "language_info": {
      "name": "python"
    }
  },
  "cells": [
    {
      "cell_type": "markdown",
      "metadata": {
        "id": "view-in-github",
        "colab_type": "text"
      },
      "source": [
        "<a href=\"https://colab.research.google.com/github/HermesGP/Repositorio-SGBDA/blob/main/Clase7/Clase7_Ejemplo1.ipynb\" target=\"_parent\"><img src=\"https://colab.research.google.com/assets/colab-badge.svg\" alt=\"Open In Colab\"/></a>"
      ]
    },
    {
      "cell_type": "code",
      "source": [
        "import requests"
      ],
      "metadata": {
        "id": "zmnT_94_MkAv"
      },
      "execution_count": 2,
      "outputs": []
    },
    {
      "cell_type": "code",
      "source": [
        "def buscar_equipo(equipo = input(\"Introduzca el nombre del equipo: \")):\n",
        "  equipo = equipo.capitalize().replace(\" \",\"_\")\n",
        "  url = f\"https://www.thesportsdb.com/api/v1/json/3/searchteams.php?t={equipo}\"\n",
        "  try:\n",
        "    respuesta = requests.get(url)\n",
        "    respuesta.raise_for_status()\n",
        "    datos = respuesta.json()\n",
        "  except requests.exceptions.RequestException as e:\n",
        "    print(f\"Error al realizar la solicitud: {e}\")\n",
        "  for dato in datos:\n",
        "    datos_equipo = {\n",
        "        \"Nombre\": datos[\"teams\"][0][\"strTeam\"],\n",
        "        \"Fundación\": datos[\"teams\"][0][\"intFormedYear\"],\n",
        "        \"Estadio\": datos[\"teams\"][0][\"strStadium\"],\n",
        "        \"Liga\": datos[\"teams\"][0][\"strLeague\"],\n",
        "        \"Descripción\": datos[\"teams\"][0][\"strDescriptionES\"]\n",
        "    }\n",
        "  return datos_equipo\n",
        "mi_equipo = buscar_equipo()\n",
        "print(f\"El equipo {mi_equipo['Nombre']} fue fundado el año {mi_equipo['Fundación']}, juega en la {mi_equipo['Liga']} y su estadio es el {mi_equipo['Estadio']}\")\n",
        "print(\"Una breve descripción del equipo:\")\n",
        "print(f\"{mi_equipo['Descripción']}\")"
      ],
      "metadata": {
        "colab": {
          "base_uri": "https://localhost:8080/"
        },
        "id": "0vi59FQbMr_p",
        "outputId": "cacb56d8-724e-4235-966b-d2aa42abd650"
      },
      "execution_count": 7,
      "outputs": [
        {
          "output_type": "stream",
          "name": "stdout",
          "text": [
            "Introduzca el nombre del equipo: chicago bulls\n",
            "El equipo Chicago Bulls fue fundado el año 1966, juega en la NBA y su estadio es el United Center\n",
            "Una breve descripción del equipo:\n",
            "Chicago Bulls (en idioma español: Toros de Chicago) es un equipo de baloncesto profesional de la NBA con sede en Chicago, Illinois, fundado en 1966. Es el tercer equipo profesional con sede en esta ciudad tras Chicago Packers/Zephyrs y Chicago Stags, equipo que participó en los años 1940 en la BAA, antigua denominación de la liga profesional norteamericana de baloncesto.\n",
            "\n",
            "Su terreno de juego es, desde 1994, el United Center, un pabellón con una capacidad de 21.711 espectadores. Los Bulls ganaron seis campeonatos en los 1990, consiguiendo ser los dominadores de esa década.\n",
            "\n",
            "Su jugador más emblemático ha sido Michael Jordan, considerado por muchos el mejor jugador de baloncesto de la historia.\n"
          ]
        }
      ]
    }
  ]
}