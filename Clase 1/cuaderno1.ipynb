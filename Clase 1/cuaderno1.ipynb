{
 "cells": [
  {
   "cell_type": "markdown",
   "metadata": {},
   "source": [
    "Tarjeta de Presentación:\n",
    "Declaración de Variables de Nombre"
   ]
  },
  {
   "cell_type": "code",
   "execution_count": 4,
   "metadata": {},
   "outputs": [],
   "source": [
    "primer_nombre = \"Hermes\"\n",
    "segundo_nombre = \"Martin\"\n",
    "primer_apellido = \"García\"\n",
    "segundo_apellido = \"Penayo\""
   ]
  },
  {
   "cell_type": "markdown",
   "metadata": {},
   "source": [
    "Declaración de Variables de Gustos y numéricos"
   ]
  },
  {
   "cell_type": "code",
   "execution_count": 5,
   "metadata": {},
   "outputs": [],
   "source": [
    "edad = 31\n",
    "estatura = 1.81\n",
    "\n",
    "color_favorito = \"Celeste\"\n",
    "comida_favorita = \"Asado de costilla\"\n",
    "me_gusta_hacer_ejercicio = False"
   ]
  },
  {
   "cell_type": "markdown",
   "metadata": {},
   "source": [
    "Impresión de Carta de Presentación"
   ]
  },
  {
   "cell_type": "code",
   "execution_count": 6,
   "metadata": {},
   "outputs": [
    {
     "name": "stdout",
     "output_type": "stream",
     "text": [
      "Mi nombre completo es: Hermes Martin García Penayo.\n"
     ]
    }
   ],
   "source": [
    "print(f\"Mi nombre completo es: {primer_nombre} {segundo_nombre} {primer_apellido} {segundo_apellido}.\")\n"
   ]
  },
  {
   "cell_type": "code",
   "execution_count": 9,
   "metadata": {},
   "outputs": [
    {
     "name": "stdout",
     "output_type": "stream",
     "text": [
      "Mi edad es 31 años y mi estatura es de 1.81 metros.\n",
      "Mi color favorito es: Celeste, mi comida favorita es Asado de costilla.\n",
      "Me gusta hacer ejercicio? False\n"
     ]
    }
   ],
   "source": [
    "print(f\"\"\"Mi edad es {edad} años y mi estatura es de {estatura} metros.\n",
    "Mi color favorito es: {color_favorito}, mi comida favorita es {comida_favorita}.\n",
    "Me gusta hacer ejercicio? {me_gusta_hacer_ejercicio}\"\"\")"
   ]
  }
 ],
 "metadata": {
  "kernelspec": {
   "display_name": "Python 3",
   "language": "python",
   "name": "python3"
  },
  "language_info": {
   "codemirror_mode": {
    "name": "ipython",
    "version": 3
   },
   "file_extension": ".py",
   "mimetype": "text/x-python",
   "name": "python",
   "nbconvert_exporter": "python",
   "pygments_lexer": "ipython3",
   "version": "3.13.2"
  }
 },
 "nbformat": 4,
 "nbformat_minor": 2
}
