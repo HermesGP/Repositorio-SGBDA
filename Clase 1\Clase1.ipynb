{
  "nbformat": 4,
  "nbformat_minor": 0,
  "metadata": {
    "colab": {
      "provenance": [],
      "authorship_tag": "ABX9TyOeQteHXF7EAlzikl0yjju7",
      "include_colab_link": true
    },
    "kernelspec": {
      "name": "python3",
      "display_name": "Python 3"
    },
    "language_info": {
      "name": "python"
    }
  },
  "cells": [
    {
      "cell_type": "markdown",
      "metadata": {
        "id": "view-in-github",
        "colab_type": "text"
      },
      "source": [
        "<a href=\"https://colab.research.google.com/github/HermesGP/Repositorio-SGBDA/blob/main/Clase%201%5CClase1.ipynb\" target=\"_parent\"><img src=\"https://colab.research.google.com/assets/colab-badge.svg\" alt=\"Open In Colab\"/></a>"
      ]
    },
    {
      "cell_type": "markdown",
      "source": [
        "Variables y tipos de datos"
      ],
      "metadata": {
        "id": "vuCBW7dzjODl"
      }
    },
    {
      "cell_type": "code",
      "execution_count": 27,
      "metadata": {
        "colab": {
          "base_uri": "https://localhost:8080/"
        },
        "id": "weC6ft_MhikZ",
        "outputId": "aa9efcc0-5709-4355-97e6-7076d6362805"
      },
      "outputs": [
        {
          "output_type": "stream",
          "name": "stdout",
          "text": [
            "<class 'NoneType'>\n",
            "<class 'str'>\n",
            "<class 'bool'>\n",
            "True\n",
            "False\n",
            "HermesHermes\n",
            "Hermes Garcia\n",
            "<class 'str'>\n",
            "<class 'int'>\n",
            "Introduce un numero: 5\n",
            "Introduce otro numero: 7\n",
            "12\n",
            "<class 'int'>\n",
            "<class 'int'>\n",
            "<class 'float'>\n"
          ]
        }
      ],
      "source": [
        "#None y tipos de datos\n",
        "nombre = None\n",
        "print(type(nombre))\n",
        "nombre = \"Hermes\"\n",
        "print(type(nombre))\n",
        "\n",
        "#condicionales y booleanos\n",
        "condicion = 8 > 5\n",
        "condicion2 = 8 != 7\n",
        "condicion3 = 8 == 7\n",
        "print(type(condicion))\n",
        "print(condicion2)\n",
        "print(condicion3)\n",
        "\n",
        "#operadores aritmeticos\n",
        "doble_nombre = nombre * 2\n",
        "nombre_apellidos = nombre + \" \" + \"Garcia\"\n",
        "print(doble_nombre)\n",
        "print(nombre_apellidos)\n",
        "\n",
        "#cambio de tipo explicito\n",
        "numero = '3'\n",
        "print(type(numero))\n",
        "numero = int(numero)\n",
        "print(type(numero))\n",
        "\n",
        "sumando1 = input(\"Introduce un numero: \")\n",
        "sumando2 = input(\"Introduce otro numero: \")\n",
        "suma = int(sumando1) + int(sumando2)\n",
        "print(suma)\n",
        "\n",
        "#camvio implicito\n",
        "a = 8\n",
        "b = 2\n",
        "print(type(a))\n",
        "print(type(b))\n",
        "division = a / b\n",
        "print(type(division))"
      ]
    },
    {
      "cell_type": "markdown",
      "source": [
        "Operando sobre cadenas de caracteres"
      ],
      "metadata": {
        "id": "ZWdK0RoIiTu1"
      }
    },
    {
      "cell_type": "code",
      "source": [
        "#concatenacion\n",
        "print(\"Hermes\" + \" \" + \"Garcia\")\n",
        "\n",
        "#f-strings\n",
        "nombre = \"Hermes\"\n",
        "apellido = \"Garcia\"\n",
        "edad = 31\n",
        "promedio_facultad = 3.48\n",
        "año_actual = 2025\n",
        "\n",
        "print(f\"Hola, mi nombre es {nombre} {apellido}, nací en el año {año_actual-edad}, y mi promedio en la facultad fue de {promedio_facultad}\")"
      ],
      "metadata": {
        "colab": {
          "base_uri": "https://localhost:8080/"
        },
        "id": "3YbQkAKoiC4m",
        "outputId": "f59330f6-8446-4ef0-8db3-f9047eade3b3"
      },
      "execution_count": 29,
      "outputs": [
        {
          "output_type": "stream",
          "name": "stdout",
          "text": [
            "Hermes Garcia\n",
            "Hola, mi nombre es Hermes Garcia, nací en el año 1994, y mi promedio en la facultad fue de 3.48\n"
          ]
        }
      ]
    },
    {
      "cell_type": "markdown",
      "source": [
        "Carta de presentación con f-strings"
      ],
      "metadata": {
        "id": "wIco_-wIns3F"
      }
    },
    {
      "cell_type": "code",
      "source": [
        "#uso de f-strings\n",
        "nombre_completo = \"Hermes García Penayo\"\n",
        "edad = 31\n",
        "carrera = \"Ingenieria Electrónica\"\n",
        "comida_favorita = \"Asado de costilla de vaca\"\n",
        "profesion = \"Docente Universitario\"\n",
        "color_favorito = \"celeste\"\n",
        "\n",
        "presentacion = f\"\"\"\n",
        "Hola, mi nombre es {nombre_completo}, tengo {edad} años,\n",
        "estudio la carrera de {carrera}, mi comida preferida es {comida_favorita},\n",
        "mi profesión es {profesion} y mi color favorito es {color_favorito}.\n",
        "\"\"\"\n",
        "print(presentacion)\n",
        "\n",
        "#algunas funciones de manimpulacion de cadenas\n",
        "\n",
        "#mayusculas y minusculas\n",
        "print(nombre_completo.upper())\n",
        "print(nombre_completo.lower())\n",
        "\n",
        "nombre_mal_escrito = \"guido van rossum\"\n",
        "print(nombre_mal_escrito.title())\n",
        "\n",
        "titulo_mal_escrito = \"el libro de la selva\"\n",
        "print(titulo_mal_escrito.capitalize())\n",
        "\n",
        "#quitar espacios u otros caracteres extra\n",
        "hola_mal_escrito = \"         Hola Mundo        \"\n",
        "print(hola_mal_escrito.strip())\n",
        "print(hola_mal_escrito.lstrip())\n",
        "print(hola_mal_escrito.rstrip())\n",
        "\n",
        "#reemplazar\n",
        "print(hola_mal_escrito.find(\"Hola\"))\n",
        "print(hola_mal_escrito.strip().replace(\"Mundo\", \"Hermes\"))\n",
        "\n",
        "#unir y separar cadenas con un determinado separador\n",
        "codigo_telefonia = \"0981\"\n",
        "numero_telefono = \"458963\"\n",
        "numero_completo = \"-\".join([codigo_telefonia, numero_telefono])\n",
        "print(numero_completo)\n",
        "\n",
        "ipv4 = \"192.168.0.1\"\n",
        "print(ipv4.split(\".\"))\n",
        "\n",
        "#longitud\n",
        "print(len(presentacion))\n",
        "\n",
        "#mirar si es numero o si es alfanumerico\n",
        "print(numero_telefono.isdigit())\n",
        "print(numero_telefono.isalnum())\n",
        "\n",
        "#llenar hasta cierta longitud con determinado caracter\n",
        "print(numero_telefono.zfill(20))\n",
        "print(numero_telefono.center(20, \"*\"))\n",
        "print(numero_telefono.ljust(20, \"*\"))\n",
        "print(numero_telefono.rjust(20, \"*\"))\n",
        "\n"
      ],
      "metadata": {
        "colab": {
          "base_uri": "https://localhost:8080/"
        },
        "id": "oSlFdMUTnsc1",
        "outputId": "a8ec9fdd-99cf-4796-92df-c8efaa782ee7"
      },
      "execution_count": 45,
      "outputs": [
        {
          "output_type": "stream",
          "name": "stdout",
          "text": [
            "\n",
            "Hola, mi nombre es Hermes García Penayo, tengo 31 años,\n",
            "estudio la carrera de Ingenieria Electrónica, mi comida preferida es Asado de costilla de vaca,\n",
            "mi profesión es Docente Universitario y mi color favorito es celeste.\n",
            "\n",
            "HERMES GARCÍA PENAYO\n",
            "hermes garcía penayo\n",
            "Guido Van Rossum\n",
            "El libro de la selva\n",
            "Hola Mundo\n",
            "Hola Mundo        \n",
            "         Hola Mundo\n",
            "9\n",
            "Hola Hermes\n",
            "0981-458963\n",
            "['192', '168', '0', '1']\n",
            "223\n",
            "True\n",
            "True\n",
            "00000000000000458963\n",
            "*******458963*******\n",
            "458963**************\n",
            "**************458963\n"
          ]
        }
      ]
    },
    {
      "cell_type": "markdown",
      "source": [
        "Léxico de Python"
      ],
      "metadata": {
        "id": "PR3xqVXdxvQA"
      }
    },
    {
      "cell_type": "code",
      "source": [
        "#Linea lógica y física\n",
        "\n",
        "print(\"Hola Mundo\")\n",
        "\n",
        "#Linea lógica con varias lineas físicas con unión implicita\n",
        "\n",
        "dias_semana= [\"Lunes\", \"Martes\", \"Miercoles\",\n",
        "              \"Jueves\", \"Viernes\", \"Sabado\", \"Domingo\"]\n",
        "print(dias_semana)\n",
        "\n",
        "#linea logica con varias lineas físicas con unión explicita\n",
        "condicion_or = 67 > 34 \\\n",
        "or 66 != 65 \\\n",
        "or 66 == 67\n",
        "\n",
        "print(condicion_or)\n",
        "\n",
        "#operadores lógicos\n",
        "\n",
        "condicion_and = 67 > 80 and 66 != 66 and 66 == 67\n",
        "print(condicion_and)\n",
        "\n",
        "condicion_not = not 67 > 80\n",
        "print(condicion_not)\n",
        "\n",
        "#estructura de control de selección if-elif-else y bloques de código\n",
        "mi_numero = int(input(\"Introduce un numero: \"))\n",
        "if(mi_numero%2 == 0):\n",
        "  print(f\"El número {mi_numero} es par\")\n",
        "elif(mi_numero%2 != 0):\n",
        "  print(f\"El número {mi_numero} es impar\")\n",
        "else:\n",
        "  print(f\"El número {mi_numero} no es un número\")\n"
      ],
      "metadata": {
        "colab": {
          "base_uri": "https://localhost:8080/"
        },
        "id": "__K7Tc8_yGkP",
        "outputId": "a9feed44-6732-4f1f-e3af-0e4624428419"
      },
      "execution_count": 58,
      "outputs": [
        {
          "output_type": "stream",
          "name": "stdout",
          "text": [
            "Hola Mundo\n",
            "['Lunes', 'Martes', 'Miercoles', 'Jueves', 'Viernes', 'Sabado', 'Domingo']\n",
            "True\n",
            "False\n",
            "True\n",
            "Introduce un numero: 5\n",
            "El número 5 es impar\n"
          ]
        }
      ]
    },
    {
      "cell_type": "markdown",
      "source": [
        "Estructura de control de selección match"
      ],
      "metadata": {
        "id": "jSeDNBvM06jP"
      }
    },
    {
      "cell_type": "code",
      "source": [
        "print(\"Menu de opciones\")\n",
        "print(\"1. Suma\")\n",
        "print(\"2. Resta\")\n",
        "print(\"3. Multiplicación\")\n",
        "print(\"4. Salir\")\n",
        "seleccion_menu = input(\"Selecciona una opción: \").strip()\n",
        "\n",
        "match seleccion_menu:\n",
        "  case \"1\":\n",
        "    print(\"Suma de numeros\")\n",
        "    numero1 = int(input(\"Introduce un numero: \"))\n",
        "    numero2 = int(input(\"Introduce otro numero: \"))\n",
        "    suma = numero1 + numero2\n",
        "    print(f\"La suma de {numero1} y {numero2} es {suma}\")\n",
        "  case \"2\":\n",
        "    print(\"Resta de numeros\")\n",
        "    numero1 = int(input(\"Introduce un numero: \"))\n",
        "    numero2 = int(input(\"Introduce otro numero: \"))\n",
        "    resta = numero1 - numero2\n",
        "    print(f\"La resta de {numero1} y {numero2} es {resta}\")\n",
        "  case \"3\":\n",
        "    print(\"Multiplicación de numeros\")\n",
        "    numero1 = int(input(\"Introduce un numero: \"))\n",
        "    numero2 = int(input(\"Introduce otro numero: \"))\n",
        "    multiplicacion = numero1 * numero2\n",
        "    print(f\"La multiplicación de {numero1} y {numero2} es {multiplicacion}\")\n",
        "  case \"4\":\n",
        "    exit()\n",
        "  case _:\n",
        "    print(\"Error, elija una opción correcta\")"
      ],
      "metadata": {
        "colab": {
          "base_uri": "https://localhost:8080/"
        },
        "id": "4ahANvzb09kf",
        "outputId": "7d249b91-a969-4fc5-c75f-d36b7c8f3230"
      },
      "execution_count": 3,
      "outputs": [
        {
          "output_type": "stream",
          "name": "stdout",
          "text": [
            "Menu de opciones\n",
            "1. Suma\n",
            "2. Resta\n",
            "3. Multiplicación\n",
            "4. Salir\n",
            "Selecciona una opción: 3\n",
            "Multiplicación de numeros\n",
            "Introduce un numero: 5\n",
            "Introduce otro numero: 8\n",
            "La multiplicación de 5 y 8 es 40\n"
          ]
        }
      ]
    },
    {
      "cell_type": "markdown",
      "source": [
        "Calculadora de Indice de Masa Corporal"
      ],
      "metadata": {
        "id": "US1_yUBx3EfZ"
      }
    },
    {
      "cell_type": "code",
      "source": [
        "while True:\n",
        "  nombre = input(\"Ingrese su nombre completo: \").strip().title()\n",
        "  edad = input(\"Ingrese su edad: \").strip()\n",
        "  if(edad.isdigit()):\n",
        "    edad = int(edad)\n",
        "  else:\n",
        "    print(\"Error, ingrese una edad válida\")\n",
        "    continue\n",
        "  peso = input(\"Ingrese su peso en kg: \").strip()\n",
        "  if(peso.isdigit()):\n",
        "    peso = int(peso)\n",
        "  else:\n",
        "    print(\"Error, ingrese un peso válido\")\n",
        "    continue\n",
        "  altura = input(\"Ingrese su altura en metros: \").strip()\n",
        "  if(altura.replace(\".\", \"\").isdigit()):\n",
        "    altura = float(altura)\n",
        "  else:\n",
        "    print(\"Error, ingrese una altura válida\")\n",
        "    continue\n",
        "  imc = peso / (altura ** 2)\n",
        "\n",
        "  print(\"Ficha del paciente: \")\n",
        "  print(f\"Nombre: {nombre}\")\n",
        "  print(f\"Edad: {edad}\")\n",
        "  print(f\"Peso: {peso} kg\")\n",
        "  print(f\"Altura: {altura} m\")\n",
        "\n",
        "  print(f\"Su IMC es: {round(imc , 2)}\")\n",
        "\n",
        "  if (imc <= 18.5):\n",
        "    estado = \"Peso Bajo\"\n",
        "  elif (imc > 18.5 and imc < 25):\n",
        "    estado = \"Peso Normal\"\n",
        "  elif (imc >= 25 and imc <= 30):\n",
        "    estado = \"Pre obesidad\"\n",
        "  elif (imc > 30):\n",
        "    estado = \"Obesidad\"\n",
        "  print(f\"Usted tiene {estado}\")\n",
        "  break"
      ],
      "metadata": {
        "colab": {
          "base_uri": "https://localhost:8080/"
        },
        "id": "fF90UaNY3H_Q",
        "outputId": "50657d35-a418-4cb9-c5e0-f2aa0d868e75"
      },
      "execution_count": 2,
      "outputs": [
        {
          "output_type": "stream",
          "name": "stdout",
          "text": [
            "Ingrese su nombre completo: hermes garcia\n",
            "Ingrese su edad: 31\n",
            "Ingrese su peso en kg: 150\n",
            "Ingrese su altura en metros: 2.15\n",
            "Ficha del paciente: \n",
            "Nombre: Hermes Garcia\n",
            "Edad: 31\n",
            "Peso: 150 kg\n",
            "Altura: 2.15 m\n",
            "Su IMC es: 32.45\n",
            "Usted tiene Obesidad\n"
          ]
        }
      ]
    },
    {
      "cell_type": "markdown",
      "source": [
        "Calculadora de la calificación del alumno de SGBDA"
      ],
      "metadata": {
        "id": "eVRb0V2E6g2Q"
      }
    },
    {
      "cell_type": "code",
      "source": [
        "puntos_tareas_primer_parcial = int(input(\"Ingrese la nota de las tareas del primer parcial: \"))\n",
        "puntos_examen_primer_parcial_practico = int(input(\"Ingrese la nota del examen del primer parcial practico: \"))\n",
        "puntos_examen_primer_parcial_teorico = int(input(\"Ingrese la nota del examen del primer parcial teorico: \"))\n",
        "\n",
        "puntos_tareas_segundo_parcial = int(input(\"Ingrese la nota de las tareas del segundo parcial: \"))\n",
        "puntos_examen_segundo_parcial_practico = int(input(\"Ingrese la nota del examen del segundo parcial practico: \"))\n",
        "\n",
        "\n",
        "puntos_trabajo_practico = int(input(\"Ingrese la nota del trabajo practico: \"))\n",
        "puntos_examen_final_practico = int(input(\"Ingrese la nota del examen final practico: \"))\n",
        "puntos_examen_final_teorico = int(input(\"Ingrese la nota del examen final teorico: \"))\n",
        "\n",
        "puntuacion_primer_parcial = (puntos_tareas_primer_parcial * 0.2) + (puntos_examen_primer_parcial_practico * 0.6) + (puntos_examen_primer_parcial_teorico * 0.2)\n",
        "puntuacion_segundo_parcial = (puntos_tareas_segundo_parcial * 0.3) + (puntos_examen_segundo_parcial_practico * 0.7)\n",
        "\n",
        "puntuacion_final = (puntuacion_primer_parcial * 0.25) + (puntuacion_segundo_parcial * 0.25) + (puntos_trabajo_practico * 0.2) + (puntos_examen_final_practico * 0.4) + (puntos_examen_final_teorico * 0.1)\n",
        "if(puntuacion_final >= 60):\n",
        "  print(f\"Su puntuación final es {puntuacion_final}, usted ha aprobado el curso\")\n",
        "else:\n",
        "  print(f\"Su puntuación final es {puntuacion_final}, usted ha reprobado el curso\")"
      ],
      "metadata": {
        "colab": {
          "base_uri": "https://localhost:8080/"
        },
        "id": "G73xIttV6lax",
        "outputId": "ae5e0459-91fe-492d-f654-1617539d6450"
      },
      "execution_count": 4,
      "outputs": [
        {
          "output_type": "stream",
          "name": "stdout",
          "text": [
            "Ingrese la nota de las tareas del primer parcial: 0\n",
            "Ingrese la nota del examen del primer parcial practico: 80\n",
            "Ingrese la nota del examen del primer parcial teorico: 30\n",
            "Ingrese la nota de las tareas del segundo parcial: 0\n",
            "Ingrese la nota del examen del segundo parcial practico: 75\n",
            "Ingrese la nota del trabajo practico: 80\n",
            "Ingrese la nota del examen final practico: 70\n",
            "Ingrese la nota del examen final teorico: 100\n",
            "Su puntuación final es 80.625, usted ha aprobado el curso\n"
          ]
        }
      ]
    }
  ]
}