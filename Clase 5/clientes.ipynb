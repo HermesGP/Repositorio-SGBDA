{
 "cells": [
  {
   "cell_type": "code",
   "execution_count": 1,
   "metadata": {},
   "outputs": [],
   "source": [
    "import pandas as pd\n",
    "import matplotlib.pyplot as plt"
   ]
  },
  {
   "cell_type": "code",
   "execution_count": 2,
   "metadata": {},
   "outputs": [
    {
     "data": {
      "text/html": [
       "<div>\n",
       "<style scoped>\n",
       "    .dataframe tbody tr th:only-of-type {\n",
       "        vertical-align: middle;\n",
       "    }\n",
       "\n",
       "    .dataframe tbody tr th {\n",
       "        vertical-align: top;\n",
       "    }\n",
       "\n",
       "    .dataframe thead th {\n",
       "        text-align: right;\n",
       "    }\n",
       "</style>\n",
       "<table border=\"1\" class=\"dataframe\">\n",
       "  <thead>\n",
       "    <tr style=\"text-align: right;\">\n",
       "      <th></th>\n",
       "      <th>ID</th>\n",
       "      <th>Nombre completo</th>\n",
       "      <th>Fecha de nacimiento</th>\n",
       "      <th>Dirección</th>\n",
       "      <th>Localidad y Código postal</th>\n",
       "      <th>Teléfono</th>\n",
       "      <th>Correo electrónico</th>\n",
       "      <th>Fecha de alta</th>\n",
       "      <th>Grupo de clientes</th>\n",
       "    </tr>\n",
       "  </thead>\n",
       "  <tbody>\n",
       "    <tr>\n",
       "      <th>0</th>\n",
       "      <td>C0001</td>\n",
       "      <td>Leandra Anna Malo Alba</td>\n",
       "      <td>1984-12-08</td>\n",
       "      <td>7943 S. Fifth Street</td>\n",
       "      <td>Bergenfield, NJ 07621</td>\n",
       "      <td>(598) 451-5865</td>\n",
       "      <td>uraeus@mac.com</td>\n",
       "      <td>2012-01-19 14:32:31</td>\n",
       "      <td>A</td>\n",
       "    </tr>\n",
       "    <tr>\n",
       "      <th>1</th>\n",
       "      <td>C0002</td>\n",
       "      <td>Severo Granados Iglesia</td>\n",
       "      <td>1986-08-12</td>\n",
       "      <td>77 Lyme Street</td>\n",
       "      <td>Hermitage, TN 37076</td>\n",
       "      <td>(869) 771-1487</td>\n",
       "      <td>bhima@me.com</td>\n",
       "      <td>2005-03-22 15:42:12</td>\n",
       "      <td>E</td>\n",
       "    </tr>\n",
       "    <tr>\n",
       "      <th>2</th>\n",
       "      <td>C0003</td>\n",
       "      <td>Lucho Andreu Amat</td>\n",
       "      <td>1990-04-16</td>\n",
       "      <td>9448 Fairfield St.</td>\n",
       "      <td>Aberdeen, SD 57401</td>\n",
       "      <td>(246) 245-7306</td>\n",
       "      <td>psichel@sbcglobal.net</td>\n",
       "      <td>2007-09-15 03:01:11</td>\n",
       "      <td>E</td>\n",
       "    </tr>\n",
       "    <tr>\n",
       "      <th>3</th>\n",
       "      <td>C0004</td>\n",
       "      <td>Matías Mauricio Castillo Barrera</td>\n",
       "      <td>1996-12-02</td>\n",
       "      <td>8143 College St.</td>\n",
       "      <td>Trussville, AL 35173</td>\n",
       "      <td>(707) 933-2513</td>\n",
       "      <td>tbeck@optonline.net</td>\n",
       "      <td>2011-12-07 15:22:50</td>\n",
       "      <td>E</td>\n",
       "    </tr>\n",
       "    <tr>\n",
       "      <th>4</th>\n",
       "      <td>C0005</td>\n",
       "      <td>Mauricio Guijarro Castelló</td>\n",
       "      <td>1984-05-14</td>\n",
       "      <td>9893 W. Vale Ave.</td>\n",
       "      <td>Billings, MT 59101</td>\n",
       "      <td>(612) 325-0216</td>\n",
       "      <td>eegsa@yahoo.ca</td>\n",
       "      <td>2008-06-28 06:58:06</td>\n",
       "      <td>D</td>\n",
       "    </tr>\n",
       "  </tbody>\n",
       "</table>\n",
       "</div>"
      ],
      "text/plain": [
       "      ID                   Nombre completo Fecha de nacimiento  \\\n",
       "0  C0001            Leandra Anna Malo Alba          1984-12-08   \n",
       "1  C0002           Severo Granados Iglesia          1986-08-12   \n",
       "2  C0003                 Lucho Andreu Amat          1990-04-16   \n",
       "3  C0004  Matías Mauricio Castillo Barrera          1996-12-02   \n",
       "4  C0005        Mauricio Guijarro Castelló          1984-05-14   \n",
       "\n",
       "              Dirección Localidad y Código postal        Teléfono  \\\n",
       "0  7943 S. Fifth Street     Bergenfield, NJ 07621  (598) 451-5865   \n",
       "1        77 Lyme Street       Hermitage, TN 37076  (869) 771-1487   \n",
       "2    9448 Fairfield St.        Aberdeen, SD 57401  (246) 245-7306   \n",
       "3      8143 College St.      Trussville, AL 35173  (707) 933-2513   \n",
       "4     9893 W. Vale Ave.        Billings, MT 59101  (612) 325-0216   \n",
       "\n",
       "      Correo electrónico       Fecha de alta Grupo de clientes  \n",
       "0         uraeus@mac.com 2012-01-19 14:32:31                 A  \n",
       "1           bhima@me.com 2005-03-22 15:42:12                 E  \n",
       "2  psichel@sbcglobal.net 2007-09-15 03:01:11                 E  \n",
       "3    tbeck@optonline.net 2011-12-07 15:22:50                 E  \n",
       "4         eegsa@yahoo.ca 2008-06-28 06:58:06                 D  "
      ]
     },
     "execution_count": 2,
     "metadata": {},
     "output_type": "execute_result"
    }
   ],
   "source": [
    "df = pd.read_excel(\"Lista-de-clientes-con-nombre-y-direccion.xlsx\", sheet_name=\"Hoja1\")\n",
    "df.head()"
   ]
  },
  {
   "cell_type": "code",
   "execution_count": 3,
   "metadata": {},
   "outputs": [
    {
     "data": {
      "text/html": [
       "<div>\n",
       "<style scoped>\n",
       "    .dataframe tbody tr th:only-of-type {\n",
       "        vertical-align: middle;\n",
       "    }\n",
       "\n",
       "    .dataframe tbody tr th {\n",
       "        vertical-align: top;\n",
       "    }\n",
       "\n",
       "    .dataframe thead th {\n",
       "        text-align: right;\n",
       "    }\n",
       "</style>\n",
       "<table border=\"1\" class=\"dataframe\">\n",
       "  <thead>\n",
       "    <tr style=\"text-align: right;\">\n",
       "      <th></th>\n",
       "      <th>ID</th>\n",
       "      <th>Nombre completo</th>\n",
       "      <th>Fecha de nacimiento</th>\n",
       "      <th>Dirección</th>\n",
       "      <th>Localidad y Código postal</th>\n",
       "      <th>Teléfono</th>\n",
       "      <th>Correo electrónico</th>\n",
       "      <th>Fecha de alta</th>\n",
       "      <th>Grupo de clientes</th>\n",
       "    </tr>\n",
       "  </thead>\n",
       "  <tbody>\n",
       "    <tr>\n",
       "      <th>958</th>\n",
       "      <td>C0959</td>\n",
       "      <td>Jonatan del Guzman</td>\n",
       "      <td>1970-01-01</td>\n",
       "      <td>7017 Walt Whitman Street</td>\n",
       "      <td>Bronx, NY 10469</td>\n",
       "      <td>(960) 905-6170</td>\n",
       "      <td>amaranth@mac.com</td>\n",
       "      <td>2019-12-15 18:24:55</td>\n",
       "      <td>C</td>\n",
       "    </tr>\n",
       "    <tr>\n",
       "      <th>549</th>\n",
       "      <td>C0550</td>\n",
       "      <td>Juan José Giménez Calzada</td>\n",
       "      <td>1970-01-02</td>\n",
       "      <td>London</td>\n",
       "      <td>EC82 3UN</td>\n",
       "      <td>(705) 896-8293</td>\n",
       "      <td>tkrotchko@comcast.net</td>\n",
       "      <td>2019-12-26 03:05:14</td>\n",
       "      <td>C</td>\n",
       "    </tr>\n",
       "    <tr>\n",
       "      <th>915</th>\n",
       "      <td>C0916</td>\n",
       "      <td>Pepita del Gallart</td>\n",
       "      <td>1970-01-04</td>\n",
       "      <td>8995 Rockledge Street</td>\n",
       "      <td>Westbury, NY 11590</td>\n",
       "      <td>(455) 437-3253</td>\n",
       "      <td>dawnsong@icloud.com</td>\n",
       "      <td>2010-12-15 00:29:22</td>\n",
       "      <td>C</td>\n",
       "    </tr>\n",
       "    <tr>\n",
       "      <th>110</th>\n",
       "      <td>C0111</td>\n",
       "      <td>Samanta Casandra Borrell Maestre</td>\n",
       "      <td>1970-01-23</td>\n",
       "      <td>L52 8LM</td>\n",
       "      <td>217 Park Lane</td>\n",
       "      <td>(661) 929-3370</td>\n",
       "      <td>jshearer@mac.com</td>\n",
       "      <td>2018-12-07 09:47:09</td>\n",
       "      <td>D</td>\n",
       "    </tr>\n",
       "    <tr>\n",
       "      <th>337</th>\n",
       "      <td>C0338</td>\n",
       "      <td>Soledad Ani Garrido Duran</td>\n",
       "      <td>1970-01-28</td>\n",
       "      <td>Pompano Beach, FL 33063</td>\n",
       "      <td>192 Birchpond Ave.</td>\n",
       "      <td>(792) 524-2198</td>\n",
       "      <td>eegsa@sbcglobal.net</td>\n",
       "      <td>2016-02-21 15:49:12</td>\n",
       "      <td>E</td>\n",
       "    </tr>\n",
       "  </tbody>\n",
       "</table>\n",
       "</div>"
      ],
      "text/plain": [
       "        ID                   Nombre completo Fecha de nacimiento  \\\n",
       "958  C0959                Jonatan del Guzman          1970-01-01   \n",
       "549  C0550         Juan José Giménez Calzada          1970-01-02   \n",
       "915  C0916                Pepita del Gallart          1970-01-04   \n",
       "110  C0111  Samanta Casandra Borrell Maestre          1970-01-23   \n",
       "337  C0338         Soledad Ani Garrido Duran          1970-01-28   \n",
       "\n",
       "                    Dirección Localidad y Código postal        Teléfono  \\\n",
       "958  7017 Walt Whitman Street           Bronx, NY 10469  (960) 905-6170   \n",
       "549                    London                  EC82 3UN  (705) 896-8293   \n",
       "915     8995 Rockledge Street        Westbury, NY 11590  (455) 437-3253   \n",
       "110                   L52 8LM             217 Park Lane  (661) 929-3370   \n",
       "337   Pompano Beach, FL 33063        192 Birchpond Ave.  (792) 524-2198   \n",
       "\n",
       "        Correo electrónico       Fecha de alta Grupo de clientes  \n",
       "958       amaranth@mac.com 2019-12-15 18:24:55                 C  \n",
       "549  tkrotchko@comcast.net 2019-12-26 03:05:14                 C  \n",
       "915    dawnsong@icloud.com 2010-12-15 00:29:22                 C  \n",
       "110       jshearer@mac.com 2018-12-07 09:47:09                 D  \n",
       "337    eegsa@sbcglobal.net 2016-02-21 15:49:12                 E  "
      ]
     },
     "execution_count": 3,
     "metadata": {},
     "output_type": "execute_result"
    }
   ],
   "source": [
    "df_ordenado_edad = df.sort_values(by=\"Fecha de nacimiento\", ascending=True)\n",
    "df_ordenado_edad.head()"
   ]
  },
  {
   "cell_type": "code",
   "execution_count": 4,
   "metadata": {},
   "outputs": [
    {
     "data": {
      "text/plain": [
       "Text(0.5, 1.0, 'Cantidad de clientes por grupo')"
      ]
     },
     "execution_count": 4,
     "metadata": {},
     "output_type": "execute_result"
    },
    {
     "data": {
      "image/png": "[encoded data removed]",
      "text/plain": [
       "<Figure size 640x480 with 1 Axes>"
      ]
     },
     "metadata": {},
     "output_type": "display_data"
    }
   ],
   "source": [
    "df_grupos_clientes = df[\"Grupo de clientes\"].value_counts()\n",
    "df_grupos_clientes.head()\n",
    "df_grupos_clientes.plot(kind=\"pie\")\n",
    "plt.title(\"Cantidad de clientes por grupo\")"
   ]
  },
  {
   "cell_type": "code",
   "execution_count": 5,
   "metadata": {},
   "outputs": [
    {
     "data": {
      "image/png": "[encoded data removed]",
      "text/plain": [
       "<Figure size 640x480 with 1 Axes>"
      ]
     },
     "metadata": {},
     "output_type": "display_data"
    }
   ],
   "source": [
    "df_años = df[\"Fecha de nacimiento\"].dt.year\n",
    "df_años.hist(bins=range(df_años.min(), df_años.max() + 5, 5), edgecolor='black')\n",
    "plt.title(\"Distribución de los años de nacimiento (intervalos de 5 años)\")\n",
    "plt.xlabel(\"Años de nacimiento\")\n",
    "plt.ylabel(\"Cantidad de clientes\")\n",
    "plt.show()"
   ]
  }
 ],
 "metadata": {
  "kernelspec": {
   "display_name": "Python 3",
   "language": "python",
   "name": "python3"
  },
  "language_info": {
   "codemirror_mode": {
    "name": "ipython",
    "version": 3
   },
   "file_extension": ".py",
   "mimetype": "text/x-python",
   "name": "python",
   "nbconvert_exporter": "python",
   "pygments_lexer": "ipython3",
   "version": "3.13.2"
  }
 },
 "nbformat": 4,
 "nbformat_minor": 2
}
