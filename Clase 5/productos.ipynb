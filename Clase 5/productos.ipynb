{
  "cells": [
    {
      "cell_type": "markdown",
      "metadata": {},
      "source": [
        "Importación de librerías"
      ]
    },
    {
      "cell_type": "code",
      "execution_count": 104,
      "metadata": {},
      "outputs": [],
      "source": [
        "import pandas as pd\n",
        "import matplotlib.pyplot as plt"
      ]
    },
    {
      "cell_type": "markdown",
      "metadata": {
        "id": "hvYejcccoCPo"
      },
      "source": [
        "Cargar datos del excel"
      ]
    },
    {
      "cell_type": "code",
      "execution_count": 105,
      "metadata": {
        "colab": {
          "base_uri": "https://localhost:8080/",
          "height": 548
        },
        "id": "EZpLzApMmF9n",
        "outputId": "1c377c01-a82d-4913-cf8c-f56ae929671c"
      },
      "outputs": [
        {
          "data": {
            "text/html": [
              "<div>\n",
              "<style scoped>\n",
              "    .dataframe tbody tr th:only-of-type {\n",
              "        vertical-align: middle;\n",
              "    }\n",
              "\n",
              "    .dataframe tbody tr th {\n",
              "        vertical-align: top;\n",
              "    }\n",
              "\n",
              "    .dataframe thead th {\n",
              "        text-align: right;\n",
              "    }\n",
              "</style>\n",
              "<table border=\"1\" class=\"dataframe\">\n",
              "  <thead>\n",
              "    <tr style=\"text-align: right;\">\n",
              "      <th></th>\n",
              "      <th>ID Cliente</th>\n",
              "      <th>Zona</th>\n",
              "      <th>País</th>\n",
              "      <th>Tipo de producto</th>\n",
              "      <th>Canal de venta</th>\n",
              "      <th>Prioridad</th>\n",
              "      <th>Fecha pedido</th>\n",
              "      <th>ID Pedido</th>\n",
              "      <th>Fecha envío</th>\n",
              "      <th>Unidades</th>\n",
              "      <th>Precio Unitario</th>\n",
              "      <th>Coste unitario</th>\n",
              "      <th>Importe venta total</th>\n",
              "      <th>Importe Coste total</th>\n",
              "    </tr>\n",
              "  </thead>\n",
              "  <tbody>\n",
              "    <tr>\n",
              "      <th>0</th>\n",
              "      <td>C2421</td>\n",
              "      <td>Europa</td>\n",
              "      <td>United Kingdom</td>\n",
              "      <td>Snacks</td>\n",
              "      <td>Offline</td>\n",
              "      <td>Crítica</td>\n",
              "      <td>2020-10-12</td>\n",
              "      <td>242113196</td>\n",
              "      <td>2020-11-30</td>\n",
              "      <td>5530</td>\n",
              "      <td>152.58</td>\n",
              "      <td>97.44</td>\n",
              "      <td>843767.40</td>\n",
              "      <td>538843.20</td>\n",
              "    </tr>\n",
              "    <tr>\n",
              "      <th>1</th>\n",
              "      <td>C1908</td>\n",
              "      <td>Europa</td>\n",
              "      <td>Malta</td>\n",
              "      <td>Cárnicos</td>\n",
              "      <td>Online</td>\n",
              "      <td>Alta</td>\n",
              "      <td>2020-01-26</td>\n",
              "      <td>190800607</td>\n",
              "      <td>2020-01-28</td>\n",
              "      <td>994</td>\n",
              "      <td>421.89</td>\n",
              "      <td>364.69</td>\n",
              "      <td>419358.66</td>\n",
              "      <td>362501.86</td>\n",
              "    </tr>\n",
              "    <tr>\n",
              "      <th>2</th>\n",
              "      <td>C7652</td>\n",
              "      <td>Australia y Oceanía</td>\n",
              "      <td>Marshall Islands</td>\n",
              "      <td>Cereales</td>\n",
              "      <td>Online</td>\n",
              "      <td>Crítica</td>\n",
              "      <td>2020-11-09</td>\n",
              "      <td>765228068</td>\n",
              "      <td>2020-11-21</td>\n",
              "      <td>6845</td>\n",
              "      <td>205.70</td>\n",
              "      <td>117.11</td>\n",
              "      <td>1408016.50</td>\n",
              "      <td>801617.95</td>\n",
              "    </tr>\n",
              "    <tr>\n",
              "      <th>3</th>\n",
              "      <td>C2326</td>\n",
              "      <td>África</td>\n",
              "      <td>Iran</td>\n",
              "      <td>Frutas</td>\n",
              "      <td>Offline</td>\n",
              "      <td>Baja</td>\n",
              "      <td>2021-08-21</td>\n",
              "      <td>232631909</td>\n",
              "      <td>2021-10-02</td>\n",
              "      <td>9806</td>\n",
              "      <td>9.33</td>\n",
              "      <td>6.92</td>\n",
              "      <td>91489.98</td>\n",
              "      <td>67857.52</td>\n",
              "    </tr>\n",
              "    <tr>\n",
              "      <th>4</th>\n",
              "      <td>C5305</td>\n",
              "      <td>Centroamérica y Caribe</td>\n",
              "      <td>Guatemala</td>\n",
              "      <td>Alimento infantil</td>\n",
              "      <td>Offline</td>\n",
              "      <td>Media</td>\n",
              "      <td>2022-09-30</td>\n",
              "      <td>530560958</td>\n",
              "      <td>2022-11-12</td>\n",
              "      <td>3633</td>\n",
              "      <td>255.28</td>\n",
              "      <td>159.42</td>\n",
              "      <td>927432.24</td>\n",
              "      <td>579172.86</td>\n",
              "    </tr>\n",
              "    <tr>\n",
              "      <th>...</th>\n",
              "      <td>...</td>\n",
              "      <td>...</td>\n",
              "      <td>...</td>\n",
              "      <td>...</td>\n",
              "      <td>...</td>\n",
              "      <td>...</td>\n",
              "      <td>...</td>\n",
              "      <td>...</td>\n",
              "      <td>...</td>\n",
              "      <td>...</td>\n",
              "      <td>...</td>\n",
              "      <td>...</td>\n",
              "      <td>...</td>\n",
              "      <td>...</td>\n",
              "    </tr>\n",
              "    <tr>\n",
              "      <th>995</th>\n",
              "      <td>C1627</td>\n",
              "      <td>África</td>\n",
              "      <td>Malawi</td>\n",
              "      <td>Bebida</td>\n",
              "      <td>Online</td>\n",
              "      <td>Alta</td>\n",
              "      <td>2022-08-04</td>\n",
              "      <td>162745130</td>\n",
              "      <td>2022-08-19</td>\n",
              "      <td>8755</td>\n",
              "      <td>47.45</td>\n",
              "      <td>31.79</td>\n",
              "      <td>415424.75</td>\n",
              "      <td>278321.45</td>\n",
              "    </tr>\n",
              "    <tr>\n",
              "      <th>996</th>\n",
              "      <td>C4408</td>\n",
              "      <td>Asia</td>\n",
              "      <td>India</td>\n",
              "      <td>Cuidado personal</td>\n",
              "      <td>Offline</td>\n",
              "      <td>Crítica</td>\n",
              "      <td>2022-04-17</td>\n",
              "      <td>440898787</td>\n",
              "      <td>2022-06-01</td>\n",
              "      <td>604</td>\n",
              "      <td>81.73</td>\n",
              "      <td>56.67</td>\n",
              "      <td>49364.92</td>\n",
              "      <td>34228.68</td>\n",
              "    </tr>\n",
              "    <tr>\n",
              "      <th>997</th>\n",
              "      <td>C2808</td>\n",
              "      <td>Asia</td>\n",
              "      <td>Tajikistan</td>\n",
              "      <td>Frutas</td>\n",
              "      <td>Online</td>\n",
              "      <td>Media</td>\n",
              "      <td>2020-04-29</td>\n",
              "      <td>280876481</td>\n",
              "      <td>2020-05-31</td>\n",
              "      <td>6447</td>\n",
              "      <td>9.33</td>\n",
              "      <td>6.92</td>\n",
              "      <td>60150.51</td>\n",
              "      <td>44613.24</td>\n",
              "    </tr>\n",
              "    <tr>\n",
              "      <th>998</th>\n",
              "      <td>C8608</td>\n",
              "      <td>Europa</td>\n",
              "      <td>Finland</td>\n",
              "      <td>Verduras</td>\n",
              "      <td>Online</td>\n",
              "      <td>Baja</td>\n",
              "      <td>2020-09-09</td>\n",
              "      <td>860852038</td>\n",
              "      <td>2020-09-15</td>\n",
              "      <td>4103</td>\n",
              "      <td>154.06</td>\n",
              "      <td>90.93</td>\n",
              "      <td>632108.18</td>\n",
              "      <td>373085.79</td>\n",
              "    </tr>\n",
              "    <tr>\n",
              "      <th>999</th>\n",
              "      <td>C2793</td>\n",
              "      <td>África</td>\n",
              "      <td>Rwanda</td>\n",
              "      <td>Ropa</td>\n",
              "      <td>Offline</td>\n",
              "      <td>Crítica</td>\n",
              "      <td>2022-01-22</td>\n",
              "      <td>279311788</td>\n",
              "      <td>2022-02-01</td>\n",
              "      <td>3420</td>\n",
              "      <td>109.28</td>\n",
              "      <td>35.84</td>\n",
              "      <td>373737.60</td>\n",
              "      <td>122572.80</td>\n",
              "    </tr>\n",
              "  </tbody>\n",
              "</table>\n",
              "<p>1000 rows × 14 columns</p>\n",
              "</div>"
            ],
            "text/plain": [
              "    ID Cliente                    Zona              País   Tipo de producto  \\\n",
              "0        C2421                  Europa    United Kingdom             Snacks   \n",
              "1        C1908                  Europa             Malta           Cárnicos   \n",
              "2        C7652     Australia y Oceanía  Marshall Islands           Cereales   \n",
              "3        C2326                  África              Iran             Frutas   \n",
              "4        C5305  Centroamérica y Caribe         Guatemala  Alimento infantil   \n",
              "..         ...                     ...               ...                ...   \n",
              "995      C1627                  África            Malawi             Bebida   \n",
              "996      C4408                    Asia             India   Cuidado personal   \n",
              "997      C2808                    Asia        Tajikistan             Frutas   \n",
              "998      C8608                  Europa           Finland           Verduras   \n",
              "999      C2793                  África            Rwanda               Ropa   \n",
              "\n",
              "    Canal de venta Prioridad Fecha pedido  ID Pedido Fecha envío  Unidades  \\\n",
              "0          Offline   Crítica   2020-10-12  242113196  2020-11-30      5530   \n",
              "1           Online      Alta   2020-01-26  190800607  2020-01-28       994   \n",
              "2           Online   Crítica   2020-11-09  765228068  2020-11-21      6845   \n",
              "3          Offline      Baja   2021-08-21  232631909  2021-10-02      9806   \n",
              "4          Offline     Media   2022-09-30  530560958  2022-11-12      3633   \n",
              "..             ...       ...          ...        ...         ...       ...   \n",
              "995         Online      Alta   2022-08-04  162745130  2022-08-19      8755   \n",
              "996        Offline   Crítica   2022-04-17  440898787  2022-06-01       604   \n",
              "997         Online     Media   2020-04-29  280876481  2020-05-31      6447   \n",
              "998         Online      Baja   2020-09-09  860852038  2020-09-15      4103   \n",
              "999        Offline   Crítica   2022-01-22  279311788  2022-02-01      3420   \n",
              "\n",
              "     Precio Unitario  Coste unitario  Importe venta total  Importe Coste total  \n",
              "0             152.58           97.44            843767.40            538843.20  \n",
              "1             421.89          364.69            419358.66            362501.86  \n",
              "2             205.70          117.11           1408016.50            801617.95  \n",
              "3               9.33            6.92             91489.98             67857.52  \n",
              "4             255.28          159.42            927432.24            579172.86  \n",
              "..               ...             ...                  ...                  ...  \n",
              "995            47.45           31.79            415424.75            278321.45  \n",
              "996            81.73           56.67             49364.92             34228.68  \n",
              "997             9.33            6.92             60150.51             44613.24  \n",
              "998           154.06           90.93            632108.18            373085.79  \n",
              "999           109.28           35.84            373737.60            122572.80  \n",
              "\n",
              "[1000 rows x 14 columns]"
            ]
          },
          "execution_count": 105,
          "metadata": {},
          "output_type": "execute_result"
        }
      ],
      "source": [
        "df = pd.read_excel('Productos.xlsx') \n",
        "df = df.dropna() #eliminar valores nulos\n",
        "df"
      ]
    },
    {
      "cell_type": "markdown",
      "metadata": {
        "id": "2Kl36E80pmn6"
      },
      "source": [
        "Filtro inicial: Productos con prioridad crítica o prioridad alta\n",
        "\n"
      ]
    },
    {
      "cell_type": "code",
      "execution_count": 106,
      "metadata": {
        "colab": {
          "base_uri": "https://localhost:8080/",
          "height": 313
        },
        "id": "kPlmDmmqpsxR",
        "outputId": "f6c34654-4c79-4aea-a326-b52ee0a85306"
      },
      "outputs": [
        {
          "data": {
            "text/html": [
              "<div>\n",
              "<style scoped>\n",
              "    .dataframe tbody tr th:only-of-type {\n",
              "        vertical-align: middle;\n",
              "    }\n",
              "\n",
              "    .dataframe tbody tr th {\n",
              "        vertical-align: top;\n",
              "    }\n",
              "\n",
              "    .dataframe thead th {\n",
              "        text-align: right;\n",
              "    }\n",
              "</style>\n",
              "<table border=\"1\" class=\"dataframe\">\n",
              "  <thead>\n",
              "    <tr style=\"text-align: right;\">\n",
              "      <th></th>\n",
              "      <th>ID Cliente</th>\n",
              "      <th>Zona</th>\n",
              "      <th>País</th>\n",
              "      <th>Tipo de producto</th>\n",
              "      <th>Canal de venta</th>\n",
              "      <th>Prioridad</th>\n",
              "      <th>Fecha pedido</th>\n",
              "      <th>ID Pedido</th>\n",
              "      <th>Fecha envío</th>\n",
              "      <th>Unidades</th>\n",
              "      <th>Precio Unitario</th>\n",
              "      <th>Coste unitario</th>\n",
              "      <th>Importe venta total</th>\n",
              "      <th>Importe Coste total</th>\n",
              "    </tr>\n",
              "  </thead>\n",
              "  <tbody>\n",
              "    <tr>\n",
              "      <th>0</th>\n",
              "      <td>C2421</td>\n",
              "      <td>Europa</td>\n",
              "      <td>United Kingdom</td>\n",
              "      <td>Snacks</td>\n",
              "      <td>Offline</td>\n",
              "      <td>Crítica</td>\n",
              "      <td>2020-10-12</td>\n",
              "      <td>242113196</td>\n",
              "      <td>2020-11-30</td>\n",
              "      <td>5530</td>\n",
              "      <td>152.58</td>\n",
              "      <td>97.44</td>\n",
              "      <td>843767.40</td>\n",
              "      <td>538843.20</td>\n",
              "    </tr>\n",
              "    <tr>\n",
              "      <th>1</th>\n",
              "      <td>C1908</td>\n",
              "      <td>Europa</td>\n",
              "      <td>Malta</td>\n",
              "      <td>Cárnicos</td>\n",
              "      <td>Online</td>\n",
              "      <td>Alta</td>\n",
              "      <td>2020-01-26</td>\n",
              "      <td>190800607</td>\n",
              "      <td>2020-01-28</td>\n",
              "      <td>994</td>\n",
              "      <td>421.89</td>\n",
              "      <td>364.69</td>\n",
              "      <td>419358.66</td>\n",
              "      <td>362501.86</td>\n",
              "    </tr>\n",
              "    <tr>\n",
              "      <th>2</th>\n",
              "      <td>C7652</td>\n",
              "      <td>Australia y Oceanía</td>\n",
              "      <td>Marshall Islands</td>\n",
              "      <td>Cereales</td>\n",
              "      <td>Online</td>\n",
              "      <td>Crítica</td>\n",
              "      <td>2020-11-09</td>\n",
              "      <td>765228068</td>\n",
              "      <td>2020-11-21</td>\n",
              "      <td>6845</td>\n",
              "      <td>205.70</td>\n",
              "      <td>117.11</td>\n",
              "      <td>1408016.50</td>\n",
              "      <td>801617.95</td>\n",
              "    </tr>\n",
              "    <tr>\n",
              "      <th>8</th>\n",
              "      <td>C8394</td>\n",
              "      <td>Centroamérica y Caribe</td>\n",
              "      <td>Grenada</td>\n",
              "      <td>Cuidado personal</td>\n",
              "      <td>Offline</td>\n",
              "      <td>Crítica</td>\n",
              "      <td>2021-02-13</td>\n",
              "      <td>839443290</td>\n",
              "      <td>2021-04-01</td>\n",
              "      <td>8779</td>\n",
              "      <td>81.73</td>\n",
              "      <td>56.67</td>\n",
              "      <td>717507.67</td>\n",
              "      <td>497505.93</td>\n",
              "    </tr>\n",
              "    <tr>\n",
              "      <th>10</th>\n",
              "      <td>C3212</td>\n",
              "      <td>Norteamérica</td>\n",
              "      <td>Greenland</td>\n",
              "      <td>Cosméticos</td>\n",
              "      <td>Online</td>\n",
              "      <td>Alta</td>\n",
              "      <td>2022-07-15</td>\n",
              "      <td>321273982</td>\n",
              "      <td>2022-08-30</td>\n",
              "      <td>966</td>\n",
              "      <td>437.20</td>\n",
              "      <td>263.33</td>\n",
              "      <td>422335.20</td>\n",
              "      <td>254376.78</td>\n",
              "    </tr>\n",
              "  </tbody>\n",
              "</table>\n",
              "</div>"
            ],
            "text/plain": [
              "   ID Cliente                    Zona              País  Tipo de producto  \\\n",
              "0       C2421                  Europa    United Kingdom            Snacks   \n",
              "1       C1908                  Europa             Malta          Cárnicos   \n",
              "2       C7652     Australia y Oceanía  Marshall Islands          Cereales   \n",
              "8       C8394  Centroamérica y Caribe           Grenada  Cuidado personal   \n",
              "10      C3212            Norteamérica         Greenland        Cosméticos   \n",
              "\n",
              "   Canal de venta Prioridad Fecha pedido  ID Pedido Fecha envío  Unidades  \\\n",
              "0         Offline   Crítica   2020-10-12  242113196  2020-11-30      5530   \n",
              "1          Online      Alta   2020-01-26  190800607  2020-01-28       994   \n",
              "2          Online   Crítica   2020-11-09  765228068  2020-11-21      6845   \n",
              "8         Offline   Crítica   2021-02-13  839443290  2021-04-01      8779   \n",
              "10         Online      Alta   2022-07-15  321273982  2022-08-30       966   \n",
              "\n",
              "    Precio Unitario  Coste unitario  Importe venta total  Importe Coste total  \n",
              "0            152.58           97.44            843767.40            538843.20  \n",
              "1            421.89          364.69            419358.66            362501.86  \n",
              "2            205.70          117.11           1408016.50            801617.95  \n",
              "8             81.73           56.67            717507.67            497505.93  \n",
              "10           437.20          263.33            422335.20            254376.78  "
            ]
          },
          "execution_count": 106,
          "metadata": {},
          "output_type": "execute_result"
        }
      ],
      "source": [
        "\n",
        "df_alto = df[ (df[\"Prioridad\"] == \"Crítica\") | (df[\"Prioridad\"] == \"Alta\") ]\n",
        "df_alto.head()"
      ]
    },
    {
      "cell_type": "markdown",
      "metadata": {
        "id": "XifOR_eWq65w"
      },
      "source": [
        "Grupo 1: Zonas Americanas"
      ]
    },
    {
      "cell_type": "code",
      "execution_count": 107,
      "metadata": {
        "colab": {
          "base_uri": "https://localhost:8080/",
          "height": 347
        },
        "id": "3NpwRA2Eq90C",
        "outputId": "ce9292e3-6e88-4f4a-d65c-86750f951f0e"
      },
      "outputs": [
        {
          "data": {
            "text/html": [
              "<div>\n",
              "<style scoped>\n",
              "    .dataframe tbody tr th:only-of-type {\n",
              "        vertical-align: middle;\n",
              "    }\n",
              "\n",
              "    .dataframe tbody tr th {\n",
              "        vertical-align: top;\n",
              "    }\n",
              "\n",
              "    .dataframe thead th {\n",
              "        text-align: right;\n",
              "    }\n",
              "</style>\n",
              "<table border=\"1\" class=\"dataframe\">\n",
              "  <thead>\n",
              "    <tr style=\"text-align: right;\">\n",
              "      <th></th>\n",
              "      <th>ID Cliente</th>\n",
              "      <th>Zona</th>\n",
              "      <th>País</th>\n",
              "      <th>Tipo de producto</th>\n",
              "      <th>Canal de venta</th>\n",
              "      <th>Prioridad</th>\n",
              "      <th>Fecha pedido</th>\n",
              "      <th>ID Pedido</th>\n",
              "      <th>Fecha envío</th>\n",
              "      <th>Unidades</th>\n",
              "      <th>Precio Unitario</th>\n",
              "      <th>Coste unitario</th>\n",
              "      <th>Importe venta total</th>\n",
              "      <th>Importe Coste total</th>\n",
              "    </tr>\n",
              "  </thead>\n",
              "  <tbody>\n",
              "    <tr>\n",
              "      <th>8</th>\n",
              "      <td>C8394</td>\n",
              "      <td>Centroamérica y Caribe</td>\n",
              "      <td>Grenada</td>\n",
              "      <td>Cuidado personal</td>\n",
              "      <td>Offline</td>\n",
              "      <td>Crítica</td>\n",
              "      <td>2021-02-13</td>\n",
              "      <td>839443290</td>\n",
              "      <td>2021-04-01</td>\n",
              "      <td>8779</td>\n",
              "      <td>81.73</td>\n",
              "      <td>56.67</td>\n",
              "      <td>717507.67</td>\n",
              "      <td>497505.93</td>\n",
              "    </tr>\n",
              "    <tr>\n",
              "      <th>10</th>\n",
              "      <td>C3212</td>\n",
              "      <td>Norteamérica</td>\n",
              "      <td>Greenland</td>\n",
              "      <td>Cosméticos</td>\n",
              "      <td>Online</td>\n",
              "      <td>Alta</td>\n",
              "      <td>2022-07-15</td>\n",
              "      <td>321273982</td>\n",
              "      <td>2022-08-30</td>\n",
              "      <td>966</td>\n",
              "      <td>437.20</td>\n",
              "      <td>263.33</td>\n",
              "      <td>422335.20</td>\n",
              "      <td>254376.78</td>\n",
              "    </tr>\n",
              "    <tr>\n",
              "      <th>17</th>\n",
              "      <td>C5348</td>\n",
              "      <td>Centroamérica y Caribe</td>\n",
              "      <td>Dominican Republic</td>\n",
              "      <td>Snacks</td>\n",
              "      <td>Offline</td>\n",
              "      <td>Crítica</td>\n",
              "      <td>2022-11-03</td>\n",
              "      <td>534899270</td>\n",
              "      <td>2022-11-04</td>\n",
              "      <td>7436</td>\n",
              "      <td>152.58</td>\n",
              "      <td>97.44</td>\n",
              "      <td>1134584.88</td>\n",
              "      <td>724563.84</td>\n",
              "    </tr>\n",
              "    <tr>\n",
              "      <th>44</th>\n",
              "      <td>C4045</td>\n",
              "      <td>Centroamérica y Caribe</td>\n",
              "      <td>Antigua and Barbuda</td>\n",
              "      <td>Cereales</td>\n",
              "      <td>Offline</td>\n",
              "      <td>Crítica</td>\n",
              "      <td>2020-08-04</td>\n",
              "      <td>404564940</td>\n",
              "      <td>2020-08-28</td>\n",
              "      <td>8611</td>\n",
              "      <td>205.70</td>\n",
              "      <td>117.11</td>\n",
              "      <td>1771282.70</td>\n",
              "      <td>1008434.21</td>\n",
              "    </tr>\n",
              "    <tr>\n",
              "      <th>53</th>\n",
              "      <td>C7783</td>\n",
              "      <td>Centroamérica y Caribe</td>\n",
              "      <td>Saint Kitts and Nevis</td>\n",
              "      <td>Cárnicos</td>\n",
              "      <td>Online</td>\n",
              "      <td>Crítica</td>\n",
              "      <td>2021-08-27</td>\n",
              "      <td>778371751</td>\n",
              "      <td>2021-09-03</td>\n",
              "      <td>6353</td>\n",
              "      <td>421.89</td>\n",
              "      <td>364.69</td>\n",
              "      <td>2680267.17</td>\n",
              "      <td>2316875.57</td>\n",
              "    </tr>\n",
              "  </tbody>\n",
              "</table>\n",
              "</div>"
            ],
            "text/plain": [
              "   ID Cliente                    Zona                    País  \\\n",
              "8       C8394  Centroamérica y Caribe                 Grenada   \n",
              "10      C3212            Norteamérica               Greenland   \n",
              "17      C5348  Centroamérica y Caribe      Dominican Republic   \n",
              "44      C4045  Centroamérica y Caribe    Antigua and Barbuda    \n",
              "53      C7783  Centroamérica y Caribe  Saint Kitts and Nevis    \n",
              "\n",
              "    Tipo de producto Canal de venta Prioridad Fecha pedido  ID Pedido  \\\n",
              "8   Cuidado personal        Offline   Crítica   2021-02-13  839443290   \n",
              "10        Cosméticos         Online      Alta   2022-07-15  321273982   \n",
              "17            Snacks        Offline   Crítica   2022-11-03  534899270   \n",
              "44          Cereales        Offline   Crítica   2020-08-04  404564940   \n",
              "53          Cárnicos         Online   Crítica   2021-08-27  778371751   \n",
              "\n",
              "   Fecha envío  Unidades  Precio Unitario  Coste unitario  \\\n",
              "8   2021-04-01      8779            81.73           56.67   \n",
              "10  2022-08-30       966           437.20          263.33   \n",
              "17  2022-11-04      7436           152.58           97.44   \n",
              "44  2020-08-28      8611           205.70          117.11   \n",
              "53  2021-09-03      6353           421.89          364.69   \n",
              "\n",
              "    Importe venta total  Importe Coste total  \n",
              "8             717507.67            497505.93  \n",
              "10            422335.20            254376.78  \n",
              "17           1134584.88            724563.84  \n",
              "44           1771282.70           1008434.21  \n",
              "53           2680267.17           2316875.57  "
            ]
          },
          "execution_count": 107,
          "metadata": {},
          "output_type": "execute_result"
        }
      ],
      "source": [
        "df_americas = df_alto[(df_alto[\"Zona\"] == \"Norteamérica\") | (df_alto[\"Zona\"] == \"Centroamérica y Caribe\")]\n",
        "df_americas.head()"
      ]
    },
    {
      "cell_type": "markdown",
      "metadata": {
        "id": "8uM0rq36sKim"
      },
      "source": [
        "Grupo 2: Zonas Europeas"
      ]
    },
    {
      "cell_type": "code",
      "execution_count": 108,
      "metadata": {
        "colab": {
          "base_uri": "https://localhost:8080/",
          "height": 278
        },
        "id": "H6shofnGsMZg",
        "outputId": "7d6222b9-888f-4dd0-ebe0-a480a6adbe28"
      },
      "outputs": [
        {
          "data": {
            "text/html": [
              "<div>\n",
              "<style scoped>\n",
              "    .dataframe tbody tr th:only-of-type {\n",
              "        vertical-align: middle;\n",
              "    }\n",
              "\n",
              "    .dataframe tbody tr th {\n",
              "        vertical-align: top;\n",
              "    }\n",
              "\n",
              "    .dataframe thead th {\n",
              "        text-align: right;\n",
              "    }\n",
              "</style>\n",
              "<table border=\"1\" class=\"dataframe\">\n",
              "  <thead>\n",
              "    <tr style=\"text-align: right;\">\n",
              "      <th></th>\n",
              "      <th>ID Cliente</th>\n",
              "      <th>Zona</th>\n",
              "      <th>País</th>\n",
              "      <th>Tipo de producto</th>\n",
              "      <th>Canal de venta</th>\n",
              "      <th>Prioridad</th>\n",
              "      <th>Fecha pedido</th>\n",
              "      <th>ID Pedido</th>\n",
              "      <th>Fecha envío</th>\n",
              "      <th>Unidades</th>\n",
              "      <th>Precio Unitario</th>\n",
              "      <th>Coste unitario</th>\n",
              "      <th>Importe venta total</th>\n",
              "      <th>Importe Coste total</th>\n",
              "    </tr>\n",
              "  </thead>\n",
              "  <tbody>\n",
              "    <tr>\n",
              "      <th>0</th>\n",
              "      <td>C2421</td>\n",
              "      <td>Europa</td>\n",
              "      <td>United Kingdom</td>\n",
              "      <td>Snacks</td>\n",
              "      <td>Offline</td>\n",
              "      <td>Crítica</td>\n",
              "      <td>2020-10-12</td>\n",
              "      <td>242113196</td>\n",
              "      <td>2020-11-30</td>\n",
              "      <td>5530</td>\n",
              "      <td>152.58</td>\n",
              "      <td>97.44</td>\n",
              "      <td>843767.40</td>\n",
              "      <td>538843.20</td>\n",
              "    </tr>\n",
              "    <tr>\n",
              "      <th>1</th>\n",
              "      <td>C1908</td>\n",
              "      <td>Europa</td>\n",
              "      <td>Malta</td>\n",
              "      <td>Cárnicos</td>\n",
              "      <td>Online</td>\n",
              "      <td>Alta</td>\n",
              "      <td>2020-01-26</td>\n",
              "      <td>190800607</td>\n",
              "      <td>2020-01-28</td>\n",
              "      <td>994</td>\n",
              "      <td>421.89</td>\n",
              "      <td>364.69</td>\n",
              "      <td>419358.66</td>\n",
              "      <td>362501.86</td>\n",
              "    </tr>\n",
              "    <tr>\n",
              "      <th>23</th>\n",
              "      <td>C4168</td>\n",
              "      <td>Asia</td>\n",
              "      <td>Bhutan</td>\n",
              "      <td>Ropa</td>\n",
              "      <td>Online</td>\n",
              "      <td>Crítica</td>\n",
              "      <td>2021-10-15</td>\n",
              "      <td>416881215</td>\n",
              "      <td>2021-10-21</td>\n",
              "      <td>3270</td>\n",
              "      <td>109.28</td>\n",
              "      <td>35.84</td>\n",
              "      <td>357345.60</td>\n",
              "      <td>117196.80</td>\n",
              "    </tr>\n",
              "    <tr>\n",
              "      <th>28</th>\n",
              "      <td>C7497</td>\n",
              "      <td>Europa</td>\n",
              "      <td>Norway</td>\n",
              "      <td>Doméstico</td>\n",
              "      <td>Online</td>\n",
              "      <td>Crítica</td>\n",
              "      <td>2021-02-21</td>\n",
              "      <td>749748504</td>\n",
              "      <td>2021-03-16</td>\n",
              "      <td>6098</td>\n",
              "      <td>668.27</td>\n",
              "      <td>502.54</td>\n",
              "      <td>4075110.46</td>\n",
              "      <td>3064488.92</td>\n",
              "    </tr>\n",
              "    <tr>\n",
              "      <th>33</th>\n",
              "      <td>C8684</td>\n",
              "      <td>Europa</td>\n",
              "      <td>Norway</td>\n",
              "      <td>Frutas</td>\n",
              "      <td>Offline</td>\n",
              "      <td>Alta</td>\n",
              "      <td>2022-10-06</td>\n",
              "      <td>868451058</td>\n",
              "      <td>2022-10-08</td>\n",
              "      <td>2822</td>\n",
              "      <td>9.33</td>\n",
              "      <td>6.92</td>\n",
              "      <td>26329.26</td>\n",
              "      <td>19528.24</td>\n",
              "    </tr>\n",
              "  </tbody>\n",
              "</table>\n",
              "</div>"
            ],
            "text/plain": [
              "   ID Cliente    Zona            País Tipo de producto Canal de venta  \\\n",
              "0       C2421  Europa  United Kingdom           Snacks        Offline   \n",
              "1       C1908  Europa           Malta         Cárnicos         Online   \n",
              "23      C4168    Asia          Bhutan             Ropa         Online   \n",
              "28      C7497  Europa          Norway        Doméstico         Online   \n",
              "33      C8684  Europa          Norway           Frutas        Offline   \n",
              "\n",
              "   Prioridad Fecha pedido  ID Pedido Fecha envío  Unidades  Precio Unitario  \\\n",
              "0    Crítica   2020-10-12  242113196  2020-11-30      5530           152.58   \n",
              "1       Alta   2020-01-26  190800607  2020-01-28       994           421.89   \n",
              "23   Crítica   2021-10-15  416881215  2021-10-21      3270           109.28   \n",
              "28   Crítica   2021-02-21  749748504  2021-03-16      6098           668.27   \n",
              "33      Alta   2022-10-06  868451058  2022-10-08      2822             9.33   \n",
              "\n",
              "    Coste unitario  Importe venta total  Importe Coste total  \n",
              "0            97.44            843767.40            538843.20  \n",
              "1           364.69            419358.66            362501.86  \n",
              "23           35.84            357345.60            117196.80  \n",
              "28          502.54           4075110.46           3064488.92  \n",
              "33            6.92             26329.26             19528.24  "
            ]
          },
          "execution_count": 108,
          "metadata": {},
          "output_type": "execute_result"
        }
      ],
      "source": [
        "df_eurasia = df_alto[(df_alto[\"Zona\"] == \"Europa\") | (df_alto[\"Zona\"] == \"Asia\")]\n",
        "df_eurasia.head()"
      ]
    },
    {
      "cell_type": "markdown",
      "metadata": {
        "id": "dzatKiOMtm2i"
      },
      "source": [
        "Sacar las unidades vendidas de ambos grupos"
      ]
    },
    {
      "cell_type": "code",
      "execution_count": 109,
      "metadata": {
        "colab": {
          "base_uri": "https://localhost:8080/",
          "height": 458
        },
        "id": "xB3ldT2wtIfE",
        "outputId": "cb234e4d-e1b3-4caf-9824-8c43b074a2e9"
      },
      "outputs": [
        {
          "data": {
            "text/plain": [
              "8      8779\n",
              "10      966\n",
              "17     7436\n",
              "44     8611\n",
              "53     6353\n",
              "       ... \n",
              "952    4315\n",
              "960    1499\n",
              "965    5460\n",
              "969    7376\n",
              "994     115\n",
              "Name: Unidades, Length: 70, dtype: int64"
            ]
          },
          "execution_count": 109,
          "metadata": {},
          "output_type": "execute_result"
        }
      ],
      "source": [
        "america_units = df_americas[\"Unidades\"]\n",
        "america_units"
      ]
    },
    {
      "cell_type": "code",
      "execution_count": 110,
      "metadata": {
        "colab": {
          "base_uri": "https://localhost:8080/",
          "height": 458
        },
        "id": "t9FZVNlGtXX4",
        "outputId": "7af4a651-d30b-4c32-9cd5-9b1a32d29412"
      },
      "outputs": [
        {
          "data": {
            "text/plain": [
              "0      5530\n",
              "1       994\n",
              "23     3270\n",
              "28     6098\n",
              "33     2822\n",
              "       ... \n",
              "978    9912\n",
              "982    8226\n",
              "986    2489\n",
              "989    9721\n",
              "996     604\n",
              "Name: Unidades, Length: 194, dtype: int64"
            ]
          },
          "execution_count": 110,
          "metadata": {},
          "output_type": "execute_result"
        }
      ],
      "source": [
        "eurasia_units = df_eurasia[\"Unidades\"]\n",
        "eurasia_units"
      ]
    },
    {
      "cell_type": "markdown",
      "metadata": {
        "id": "ZfJZe44Dy9Re"
      },
      "source": [
        "Datos estadísticos G1 y G2"
      ]
    },
    {
      "cell_type": "code",
      "execution_count": 111,
      "metadata": {
        "colab": {
          "base_uri": "https://localhost:8080/"
        },
        "id": "h8ocEKBmtyvB",
        "outputId": "4377b533-0e08-4730-c58c-72d9fa3bbe34"
      },
      "outputs": [
        {
          "name": "stdout",
          "output_type": "stream",
          "text": [
            "Grupo 1\n",
            "Cantidad: 70\n",
            "Máximo: 9880\n",
            "Mínimo: 115\n",
            "Rango: 9765\n",
            "Media Aritmética: 5501.828571428571\n",
            "Mediana: 6199.0\n",
            "Moda: 0    6944\n",
            "Name: Unidades, dtype: int64\n",
            "Coeficiente de Asimetría: -0.2828427010166248\n",
            "Curtosis: -1.2990450416187294\n",
            "Desviación Estándar: 2993.4584814777813\n"
          ]
        }
      ],
      "source": [
        "print(\"Grupo 1\")\n",
        "print(f\"Cantidad: {america_units.count()}\")\n",
        "print(f\"Máximo: {america_units.max()}\")\n",
        "print(f\"Mínimo: {america_units.min()}\")\n",
        "print(f\"Rango: {america_units.max() - america_units.min()}\")\n",
        "print(f\"Media Aritmética: {america_units.mean()}\")\n",
        "print(f\"Mediana: {america_units.median()}\")\n",
        "print(f\"Moda: {america_units.mode()}\")\n",
        "print(f\"Coeficiente de Asimetría: {america_units.skew()}\")\n",
        "print(f\"Curtosis: {america_units.kurt()}\")\n",
        "print(f\"Desviación Estándar: {america_units.std()}\")"
      ]
    },
    {
      "cell_type": "code",
      "execution_count": 112,
      "metadata": {
        "colab": {
          "base_uri": "https://localhost:8080/"
        },
        "id": "I9lYyyFFyA_c",
        "outputId": "1ba3d51b-c787-41a2-d4c8-bedae423fc20"
      },
      "outputs": [
        {
          "name": "stdout",
          "output_type": "stream",
          "text": [
            "Grupo 2\n",
            "Cantidad: 194\n",
            "Máximo: 9912\n",
            "Mínimo: 1\n",
            "Rango: 9911\n",
            "Media Aritmética: 4875.257731958763\n",
            "Mediana: 4927.5\n",
            "Moda: 0    817\n",
            "Name: Unidades, dtype: int64\n",
            "Coeficiente de Asimetría: 0.042608556839183534\n",
            "Curtosis: -1.2213980450007214\n",
            "Desviación Estándar: 2918.1652471911184\n"
          ]
        }
      ],
      "source": [
        "print(\"Grupo 2\")\n",
        "print(f\"Cantidad: {eurasia_units.count()}\")\n",
        "print(f\"Máximo: {eurasia_units.max()}\")\n",
        "print(f\"Mínimo: {eurasia_units.min()}\")\n",
        "print(f\"Rango: {eurasia_units.max() - eurasia_units.min()}\")\n",
        "print(f\"Media Aritmética: {eurasia_units.mean()}\")\n",
        "print(f\"Mediana: {eurasia_units.median()}\")\n",
        "print(f\"Moda: {eurasia_units.mode()}\")\n",
        "print(f\"Coeficiente de Asimetría: {eurasia_units.skew()}\")\n",
        "print(f\"Curtosis: {eurasia_units.kurt()}\")\n",
        "print(f\"Desviación Estándar: {eurasia_units.std()}\")"
      ]
    },
    {
      "cell_type": "markdown",
      "metadata": {
        "id": "PT5mpoJlzCpG"
      },
      "source": [
        "Hallar amplitud de los intervalos para el gráfico de barras (como para 10 barras)"
      ]
    },
    {
      "cell_type": "code",
      "execution_count": 113,
      "metadata": {
        "colab": {
          "base_uri": "https://localhost:8080/"
        },
        "id": "myOxodcqygCI",
        "outputId": "d236c304-503f-4cdd-8ede-1016eafad32a"
      },
      "outputs": [
        {
          "name": "stdout",
          "output_type": "stream",
          "text": [
            "Amplitud de clase: 991.1\n"
          ]
        }
      ],
      "source": [
        "rango = eurasia_units.max() - eurasia_units.min()\n",
        "amplitud = rango / 10\n",
        "amplitud = round(amplitud, 2)\n",
        "print(f\"Amplitud de clase: {amplitud}\")"
      ]
    },
    {
      "cell_type": "markdown",
      "metadata": {
        "id": "y07MUmpuzHlq"
      },
      "source": [
        "Crear la tabla de intervalos"
      ]
    },
    {
      "cell_type": "code",
      "execution_count": 114,
      "metadata": {
        "colab": {
          "base_uri": "https://localhost:8080/"
        },
        "id": "LiBhXn1bzMCi",
        "outputId": "08ba7157-4e61-4ee9-b2d4-7312d53ae6c5"
      },
      "outputs": [
        {
          "name": "stdout",
          "output_type": "stream",
          "text": [
            "[1.0, 992.1)\n",
            "[992.1, 1983.2)\n",
            "[1983.2, 2974.3)\n",
            "[2974.3, 3965.4)\n",
            "[3965.4, 4956.5)\n",
            "[4956.5, 5947.6)\n",
            "[5947.6, 6938.7)\n",
            "[6938.7, 7929.8)\n",
            "[7929.8, 8920.9)\n",
            "[8920.9, 9912.0)\n"
          ]
        }
      ],
      "source": [
        "intervalos = pd.interval_range(start=eurasia_units.min(), #inicio del primer intervalo\n",
        "                               end=eurasia_units.max(), #fin del ultimo intervalo\n",
        "                               freq=amplitud, #amplitud de los intervalos\n",
        "                               closed = \"left\") #donde se cierran los intervalos\n",
        "for i in intervalos: #imprimir la tabla de intervalos\n",
        "  print(i)"
      ]
    },
    {
      "cell_type": "code",
      "execution_count": 115,
      "metadata": {
        "colab": {
          "base_uri": "https://localhost:8080/",
          "height": 453
        },
        "id": "SKpjDA4R0vBF",
        "outputId": "c77e6cc1-90dc-4fad-d069-59f25785319e"
      },
      "outputs": [
        {
          "name": "stderr",
          "output_type": "stream",
          "text": [
            "C:\\Users\\herme\\AppData\\Local\\Temp\\ipykernel_29828\\2292062469.py:2: FutureWarning: The default of observed=False is deprecated and will be changed to True in a future version of pandas. Pass observed=False to retain current behavior or observed=True to adopt the future default and silence this warning.\n",
            "  grupo1_final = grupo1_final.groupby(grupo1_final).count()\n"
          ]
        },
        {
          "data": {
            "text/plain": [
              "Unidades\n",
              "[1.0, 992.1)         7\n",
              "[992.1, 1983.2)      6\n",
              "[1983.2, 2974.3)     8\n",
              "[2974.3, 3965.4)     2\n",
              "[3965.4, 4956.5)     8\n",
              "[4956.5, 5947.6)     3\n",
              "[5947.6, 6938.7)     5\n",
              "[6938.7, 7929.8)    12\n",
              "[7929.8, 8920.9)    12\n",
              "[8920.9, 9912.0)     7\n",
              "Name: Unidades, dtype: int64"
            ]
          },
          "execution_count": 115,
          "metadata": {},
          "output_type": "execute_result"
        }
      ],
      "source": [
        "grupo1_final = pd.cut(america_units, bins=intervalos)\n",
        "grupo1_final = grupo1_final.groupby(grupo1_final).count()\n",
        "grupo1_final"
      ]
    },
    {
      "cell_type": "code",
      "execution_count": 116,
      "metadata": {
        "colab": {
          "base_uri": "https://localhost:8080/",
          "height": 453
        },
        "id": "QFpKD3Up2Cf-",
        "outputId": "6129107e-5c82-4478-a4b3-9baae93bf9e5"
      },
      "outputs": [
        {
          "name": "stderr",
          "output_type": "stream",
          "text": [
            "C:\\Users\\herme\\AppData\\Local\\Temp\\ipykernel_29828\\2402923317.py:2: FutureWarning: The default of observed=False is deprecated and will be changed to True in a future version of pandas. Pass observed=False to retain current behavior or observed=True to adopt the future default and silence this warning.\n",
            "  grupo2_final = grupo2_final.groupby(grupo2_final).count()\n"
          ]
        },
        {
          "data": {
            "text/plain": [
              "Unidades\n",
              "[1.0, 992.1)        21\n",
              "[992.1, 1983.2)     20\n",
              "[1983.2, 2974.3)    22\n",
              "[2974.3, 3965.4)    20\n",
              "[3965.4, 4956.5)    14\n",
              "[4956.5, 5947.6)    23\n",
              "[5947.6, 6938.7)    20\n",
              "[6938.7, 7929.8)    15\n",
              "[7929.8, 8920.9)    17\n",
              "[8920.9, 9912.0)    21\n",
              "Name: Unidades, dtype: int64"
            ]
          },
          "execution_count": 116,
          "metadata": {},
          "output_type": "execute_result"
        }
      ],
      "source": [
        "grupo2_final = pd.cut(eurasia_units, bins=intervalos)\n",
        "grupo2_final = grupo2_final.groupby(grupo2_final).count()\n",
        "grupo2_final"
      ]
    },
    {
      "cell_type": "markdown",
      "metadata": {
        "id": "fdSBOKHN2t6s"
      },
      "source": [
        "Crear los histogramas"
      ]
    },
    {
      "cell_type": "code",
      "execution_count": 117,
      "metadata": {
        "colab": {
          "base_uri": "https://localhost:8080/",
          "height": 763
        },
        "id": "jyj8NowC2ZN7",
        "outputId": "9b5a8a28-e48c-4427-ed26-2eb38bc89ac7"
      },
      "outputs": [
        {
          "data": {
            "image/png": "[encoded data removed]",
            "text/plain": [
              "<Figure size 640x480 with 1 Axes>"
            ]
          },
          "metadata": {},
          "output_type": "display_data"
        }
      ],
      "source": [
        "grupo1_final.plot(kind=\"bar\",color=\"Salmon\",edgecolor =\"Black\")\n",
        "plt.show()"
      ]
    },
    {
      "cell_type": "code",
      "execution_count": 118,
      "metadata": {
        "colab": {
          "base_uri": "https://localhost:8080/",
          "height": 763
        },
        "id": "OAL4edUd2yv_",
        "outputId": "80f0fe2d-b3bd-4102-ca8a-2d7f11357d1d"
      },
      "outputs": [
        {
          "data": {
            "image/png": "[encoded data removed]",
            "text/plain": [
              "<Figure size 640x480 with 1 Axes>"
            ]
          },
          "metadata": {},
          "output_type": "display_data"
        }
      ],
      "source": [
        "grupo2_final.plot(kind=\"bar\",color = \"Red\", edgecolor = \"Black\")\n",
        "plt.show()"
      ]
    },
    {
      "cell_type": "markdown",
      "metadata": {
        "id": "U3uyjK897IAO"
      },
      "source": [
        "En un solo gráfico"
      ]
    },
    {
      "cell_type": "code",
      "execution_count": 119,
      "metadata": {
        "colab": {
          "base_uri": "https://localhost:8080/",
          "height": 430
        },
        "id": "dyKJkRKa6b0a",
        "outputId": "0bd8e364-9571-4f3e-e2c0-8c5a45f1a039"
      },
      "outputs": [
        {
          "data": {
            "image/png": "[encoded data removed]",
            "text/plain": [
              "<Figure size 640x480 with 1 Axes>"
            ]
          },
          "metadata": {},
          "output_type": "display_data"
        }
      ],
      "source": [
        "import numpy as np #calculos numericos avanzados\n",
        "x = np.arange(10) #crear los valores de x del gráfico\n",
        "w = 0.4 #grosor de las barras\n",
        "plt.bar(x-0.2,grupo1_final,w,edgecolor=\"Black\") #hay que mover los valores de x en 0.2 para que no se superpongan\n",
        "plt.bar(x+0.2,grupo2_final,w,edgecolor=\"Black\")\n",
        "plt.title(\"Comparación de Productos por Zona\")\n",
        "plt.legend([\"Norteamérica\",\"Europa y Asia\"])\n",
        "plt.show()"
      ]
    },
    {
      "cell_type": "markdown",
      "metadata": {
        "id": "KaGehuHp8rgQ"
      },
      "source": [
        "Todo Junto para G1 y G2 por separado (con este código no hace falta hacer la tabla de intervalos)"
      ]
    },
    {
      "cell_type": "code",
      "execution_count": 120,
      "metadata": {
        "colab": {
          "base_uri": "https://localhost:8080/",
          "height": 430
        },
        "id": "pBh8Ay4r8vtW",
        "outputId": "0d00d204-82b0-4542-ce3e-da21c4b28caf"
      },
      "outputs": [
        {
          "data": {
            "image/png": "[encoded data removed]",
            "text/plain": [
              "<Figure size 640x480 with 1 Axes>"
            ]
          },
          "metadata": {},
          "output_type": "display_data"
        }
      ],
      "source": [
        "fig, ax = plt.subplots()\n",
        "ax.hist(america_units, bins = 10, color=\"Teal\", edgecolor=\"Black\") #bins es el número de intervalos, color el color de las barras y edgecolor el color de los bordes\n",
        "plt.title(\"Distribución de frecuencias de unidades vendidas en América\")\n",
        "plt.show()"
      ]
    },
    {
      "cell_type": "code",
      "execution_count": 121,
      "metadata": {
        "colab": {
          "base_uri": "https://localhost:8080/",
          "height": 430
        },
        "id": "3y00KVKH-Msm",
        "outputId": "4f3d0b45-3270-40d8-8360-a1e4e585e422"
      },
      "outputs": [
        {
          "data": {
            "image/png": "[encoded data removed]",
            "text/plain": [
              "<Figure size 640x480 with 1 Axes>"
            ]
          },
          "metadata": {},
          "output_type": "display_data"
        }
      ],
      "source": [
        "fig, ax = plt.subplots()\n",
        "ax.hist(eurasia_units, bins = 10 , color= \"Orange\" ,edgecolor=\"black\")\n",
        "plt.title(\"Distribución de frecuencias de unidades vendidas en Eurasia\")\n",
        "plt.show()"
      ]
    }
  ],
  "metadata": {
    "colab": {
      "provenance": []
    },
    "kernelspec": {
      "display_name": "Python 3",
      "name": "python3"
    },
    "language_info": {
      "codemirror_mode": {
        "name": "ipython",
        "version": 3
      },
      "file_extension": ".py",
      "mimetype": "text/x-python",
      "name": "python",
      "nbconvert_exporter": "python",
      "pygments_lexer": "ipython3",
      "version": "3.13.2"
    }
  },
  "nbformat": 4,
  "nbformat_minor": 0
}
